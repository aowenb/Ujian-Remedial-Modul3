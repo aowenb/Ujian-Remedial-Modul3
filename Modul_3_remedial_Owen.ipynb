{
  "nbformat": 4,
  "nbformat_minor": 0,
  "metadata": {
    "colab": {
      "name": "Modul 3 retake.ipynb",
      "provenance": []
    },
    "kernelspec": {
      "name": "python3",
      "display_name": "Python 3"
    },
    "language_info": {
      "name": "python"
    }
  },
  "cells": [
    {
      "cell_type": "markdown",
      "metadata": {
        "id": "AE9hm5tm4Tl2"
      },
      "source": [
        "# 0. importing modules & data & functions"
      ]
    },
    {
      "cell_type": "code",
      "metadata": {
        "colab": {
          "base_uri": "https://localhost:8080/"
        },
        "id": "zCIfR28F3ZTO",
        "outputId": "748503ee-7aec-436a-a78f-cae025b1f769"
      },
      "source": [
        "!pip install optuna"
      ],
      "execution_count": 1,
      "outputs": [
        {
          "output_type": "stream",
          "text": [
            "Collecting optuna\n",
            "\u001b[?25l  Downloading https://files.pythonhosted.org/packages/1a/18/b49ca91cf592747e19f2d333c2a86cd7c81895b922a5a09adf6335471576/optuna-2.8.0-py3-none-any.whl (301kB)\n",
            "\r\u001b[K     |█                               | 10kB 14.7MB/s eta 0:00:01\r\u001b[K     |██▏                             | 20kB 20.7MB/s eta 0:00:01\r\u001b[K     |███▎                            | 30kB 11.3MB/s eta 0:00:01\r\u001b[K     |████▍                           | 40kB 9.0MB/s eta 0:00:01\r\u001b[K     |█████▍                          | 51kB 5.1MB/s eta 0:00:01\r\u001b[K     |██████▌                         | 61kB 5.6MB/s eta 0:00:01\r\u001b[K     |███████▋                        | 71kB 6.1MB/s eta 0:00:01\r\u001b[K     |████████▊                       | 81kB 6.2MB/s eta 0:00:01\r\u001b[K     |█████████▊                      | 92kB 4.7MB/s eta 0:00:01\r\u001b[K     |██████████▉                     | 102kB 5.1MB/s eta 0:00:01\r\u001b[K     |████████████                    | 112kB 5.1MB/s eta 0:00:01\r\u001b[K     |█████████████                   | 122kB 5.1MB/s eta 0:00:01\r\u001b[K     |██████████████                  | 133kB 5.1MB/s eta 0:00:01\r\u001b[K     |███████████████▏                | 143kB 5.1MB/s eta 0:00:01\r\u001b[K     |████████████████▎               | 153kB 5.1MB/s eta 0:00:01\r\u001b[K     |█████████████████▍              | 163kB 5.1MB/s eta 0:00:01\r\u001b[K     |██████████████████▌             | 174kB 5.1MB/s eta 0:00:01\r\u001b[K     |███████████████████▌            | 184kB 5.1MB/s eta 0:00:01\r\u001b[K     |████████████████████▋           | 194kB 5.1MB/s eta 0:00:01\r\u001b[K     |█████████████████████▊          | 204kB 5.1MB/s eta 0:00:01\r\u001b[K     |██████████████████████▉         | 215kB 5.1MB/s eta 0:00:01\r\u001b[K     |███████████████████████▉        | 225kB 5.1MB/s eta 0:00:01\r\u001b[K     |█████████████████████████       | 235kB 5.1MB/s eta 0:00:01\r\u001b[K     |██████████████████████████      | 245kB 5.1MB/s eta 0:00:01\r\u001b[K     |███████████████████████████▏    | 256kB 5.1MB/s eta 0:00:01\r\u001b[K     |████████████████████████████▏   | 266kB 5.1MB/s eta 0:00:01\r\u001b[K     |█████████████████████████████▎  | 276kB 5.1MB/s eta 0:00:01\r\u001b[K     |██████████████████████████████▍ | 286kB 5.1MB/s eta 0:00:01\r\u001b[K     |███████████████████████████████▌| 296kB 5.1MB/s eta 0:00:01\r\u001b[K     |████████████████████████████████| 307kB 5.1MB/s \n",
            "\u001b[?25hRequirement already satisfied: sqlalchemy>=1.1.0 in /usr/local/lib/python3.7/dist-packages (from optuna) (1.4.20)\n",
            "Collecting colorlog\n",
            "  Downloading https://files.pythonhosted.org/packages/32/e6/e9ddc6fa1104fda718338b341e4b3dc31cd8039ab29e52fc73b508515361/colorlog-5.0.1-py2.py3-none-any.whl\n",
            "Requirement already satisfied: numpy in /usr/local/lib/python3.7/dist-packages (from optuna) (1.19.5)\n",
            "Collecting cmaes>=0.8.2\n",
            "  Downloading https://files.pythonhosted.org/packages/01/1f/43b01223a0366171f474320c6e966c39a11587287f098a5f09809b45e05f/cmaes-0.8.2-py3-none-any.whl\n",
            "Requirement already satisfied: packaging>=20.0 in /usr/local/lib/python3.7/dist-packages (from optuna) (20.9)\n",
            "Requirement already satisfied: scipy!=1.4.0 in /usr/local/lib/python3.7/dist-packages (from optuna) (1.4.1)\n",
            "Collecting alembic\n",
            "\u001b[?25l  Downloading https://files.pythonhosted.org/packages/d5/80/ef186e599a57d0e4cb78fc76e0bfc2e6953fa9716b2a5cf2de0117ed8eb5/alembic-1.6.5-py2.py3-none-any.whl (164kB)\n",
            "\u001b[K     |████████████████████████████████| 174kB 51.4MB/s \n",
            "\u001b[?25hCollecting cliff\n",
            "\u001b[?25l  Downloading https://files.pythonhosted.org/packages/87/11/aea1cacbd4cf8262809c4d6f95dcb3f2802594de1f51c5bd454d69bf15c5/cliff-3.8.0-py3-none-any.whl (80kB)\n",
            "\u001b[K     |████████████████████████████████| 81kB 8.3MB/s \n",
            "\u001b[?25hRequirement already satisfied: tqdm in /usr/local/lib/python3.7/dist-packages (from optuna) (4.41.1)\n",
            "Requirement already satisfied: importlib-metadata; python_version < \"3.8\" in /usr/local/lib/python3.7/dist-packages (from sqlalchemy>=1.1.0->optuna) (4.6.0)\n",
            "Requirement already satisfied: greenlet!=0.4.17; python_version >= \"3\" in /usr/local/lib/python3.7/dist-packages (from sqlalchemy>=1.1.0->optuna) (1.1.0)\n",
            "Requirement already satisfied: pyparsing>=2.0.2 in /usr/local/lib/python3.7/dist-packages (from packaging>=20.0->optuna) (2.4.7)\n",
            "Requirement already satisfied: python-dateutil in /usr/local/lib/python3.7/dist-packages (from alembic->optuna) (2.8.1)\n",
            "Collecting Mako\n",
            "\u001b[?25l  Downloading https://files.pythonhosted.org/packages/f3/54/dbc07fbb20865d3b78fdb7cf7fa713e2cba4f87f71100074ef2dc9f9d1f7/Mako-1.1.4-py2.py3-none-any.whl (75kB)\n",
            "\u001b[K     |████████████████████████████████| 81kB 7.9MB/s \n",
            "\u001b[?25hCollecting python-editor>=0.3\n",
            "  Downloading https://files.pythonhosted.org/packages/c6/d3/201fc3abe391bbae6606e6f1d598c15d367033332bd54352b12f35513717/python_editor-1.0.4-py3-none-any.whl\n",
            "Requirement already satisfied: PrettyTable>=0.7.2 in /usr/local/lib/python3.7/dist-packages (from cliff->optuna) (2.1.0)\n",
            "Collecting pbr!=2.1.0,>=2.0.0\n",
            "\u001b[?25l  Downloading https://files.pythonhosted.org/packages/18/e0/1d4702dd81121d04a477c272d47ee5b6bc970d1a0990b11befa275c55cf2/pbr-5.6.0-py2.py3-none-any.whl (111kB)\n",
            "\u001b[K     |████████████████████████████████| 112kB 42.2MB/s \n",
            "\u001b[?25hCollecting stevedore>=2.0.1\n",
            "\u001b[?25l  Downloading https://files.pythonhosted.org/packages/d4/49/b602307aeac3df3384ff1fcd05da9c0376c622a6c48bb5325f28ab165b57/stevedore-3.3.0-py3-none-any.whl (49kB)\n",
            "\u001b[K     |████████████████████████████████| 51kB 5.1MB/s \n",
            "\u001b[?25hCollecting cmd2>=1.0.0\n",
            "\u001b[?25l  Downloading https://files.pythonhosted.org/packages/44/ca/d407811641ec1d8bd8a38ee3165d73aa44776d7700436bd4d4a6606f2736/cmd2-2.1.2-py3-none-any.whl (141kB)\n",
            "\u001b[K     |████████████████████████████████| 143kB 45.3MB/s \n",
            "\u001b[?25hRequirement already satisfied: PyYAML>=3.12 in /usr/local/lib/python3.7/dist-packages (from cliff->optuna) (3.13)\n",
            "Requirement already satisfied: zipp>=0.5 in /usr/local/lib/python3.7/dist-packages (from importlib-metadata; python_version < \"3.8\"->sqlalchemy>=1.1.0->optuna) (3.4.1)\n",
            "Requirement already satisfied: typing-extensions>=3.6.4; python_version < \"3.8\" in /usr/local/lib/python3.7/dist-packages (from importlib-metadata; python_version < \"3.8\"->sqlalchemy>=1.1.0->optuna) (3.7.4.3)\n",
            "Requirement already satisfied: six>=1.5 in /usr/local/lib/python3.7/dist-packages (from python-dateutil->alembic->optuna) (1.15.0)\n",
            "Requirement already satisfied: MarkupSafe>=0.9.2 in /usr/local/lib/python3.7/dist-packages (from Mako->alembic->optuna) (2.0.1)\n",
            "Requirement already satisfied: wcwidth in /usr/local/lib/python3.7/dist-packages (from PrettyTable>=0.7.2->cliff->optuna) (0.2.5)\n",
            "Requirement already satisfied: attrs>=16.3.0 in /usr/local/lib/python3.7/dist-packages (from cmd2>=1.0.0->cliff->optuna) (21.2.0)\n",
            "Collecting pyperclip>=1.6\n",
            "  Downloading https://files.pythonhosted.org/packages/a7/2c/4c64579f847bd5d539803c8b909e54ba087a79d01bb3aba433a95879a6c5/pyperclip-1.8.2.tar.gz\n",
            "Collecting colorama>=0.3.7\n",
            "  Downloading https://files.pythonhosted.org/packages/44/98/5b86278fbbf250d239ae0ecb724f8572af1c91f4a11edf4d36a206189440/colorama-0.4.4-py2.py3-none-any.whl\n",
            "Building wheels for collected packages: pyperclip\n",
            "  Building wheel for pyperclip (setup.py) ... \u001b[?25l\u001b[?25hdone\n",
            "  Created wheel for pyperclip: filename=pyperclip-1.8.2-cp37-none-any.whl size=11136 sha256=d3667f461dd0f90b44d076cca880e451ff2b0d5dcb85690b7f84946a0a216016\n",
            "  Stored in directory: /root/.cache/pip/wheels/25/af/b8/3407109267803f4015e1ee2ff23be0c8c19ce4008665931ee1\n",
            "Successfully built pyperclip\n",
            "Installing collected packages: colorlog, cmaes, Mako, python-editor, alembic, pbr, stevedore, pyperclip, colorama, cmd2, cliff, optuna\n",
            "Successfully installed Mako-1.1.4 alembic-1.6.5 cliff-3.8.0 cmaes-0.8.2 cmd2-2.1.2 colorama-0.4.4 colorlog-5.0.1 optuna-2.8.0 pbr-5.6.0 pyperclip-1.8.2 python-editor-1.0.4 stevedore-3.3.0\n"
          ],
          "name": "stdout"
        }
      ]
    },
    {
      "cell_type": "code",
      "metadata": {
        "id": "wtggA9KgvvJq"
      },
      "source": [
        "# Dataframe\n",
        "import pandas as pd\n",
        "\n",
        "# Numeric calculation\n",
        "import numpy as np\n",
        "import statistics as st\n",
        "from collections import Counter\n",
        "\n",
        "# Visualization\n",
        "import matplotlib.pyplot as plt\n",
        "import seaborn as sns\n",
        "sns.set(style=\"darkgrid\")\n",
        "\n",
        "# Sklearn\n",
        "from sklearn.preprocessing import StandardScaler\n",
        "from sklearn.experimental import enable_iterative_imputer \n",
        "from sklearn.impute import IterativeImputer\n",
        "from sklearn import tree\n",
        "from sklearn.tree import DecisionTreeClassifier\n",
        "from sklearn.ensemble import RandomForestClassifier, AdaBoostClassifier, GradientBoostingClassifier\n",
        "from sklearn.model_selection import train_test_split, StratifiedKFold, cross_val_score, RandomizedSearchCV\n",
        "from sklearn.metrics import classification_report\n",
        "from sklearn.metrics import f1_score\n",
        "from sklearn.linear_model import  LinearRegression, Lasso, Ridge\n",
        "from sklearn.neighbors import KNeighborsRegressor\n",
        "from sklearn.ensemble import RandomForestRegressor\n",
        "\n",
        "# XGboost\n",
        "from xgboost import XGBClassifier\n",
        "\n",
        "# Optuna\n",
        "import optuna\n"
      ],
      "execution_count": 163,
      "outputs": []
    },
    {
      "cell_type": "code",
      "metadata": {
        "colab": {
          "base_uri": "https://localhost:8080/"
        },
        "id": "0_YVxE3iUVq6",
        "outputId": "75b43ad6-de13-4d16-f2e0-97716e500ff2"
      },
      "source": [
        "\n",
        "import pandas as pd\n",
        "import numpy as np\n",
        "\n",
        "import seaborn as sns\n",
        "import matplotlib.pyplot as plt\n",
        "\n",
        "from sklearn.datasets import load_boston\n",
        "\n",
        "from sklearn.preprocessing import MinMaxScaler\n",
        "from sklearn.model_selection import train_test_split\n",
        "\n",
        "from sklearn.neighbors import KNeighborsClassifier\n",
        "from sklearn.tree import DecisionTreeClassifier\n",
        "from sklearn.linear_model import LogisticRegression, LinearRegression, Lasso, Ridge\n",
        "from sklearn.ensemble import VotingClassifier\n",
        "\n",
        "from sklearn.metrics import accuracy_score\n",
        "from sklearn.metrics import mean_squared_error\n",
        "from sklearn.preprocessing import StandardScaler\n",
        "from sklearn.preprocessing import RobustScaler\n",
        "from sklearn.preprocessing import OneHotEncoder\n",
        "from sklearn.compose import ColumnTransformer\n",
        "from sklearn.impute import SimpleImputer\n",
        "from sklearn.feature_selection import SelectPercentile\n",
        "from sklearn import metrics\n",
        "from sklearn.metrics import classification_report\n",
        "import category_encoders as ce\n",
        "from sklearn.model_selection import cross_val_score\n",
        "from sklearn.model_selection import GridSearchCV\n",
        "\n",
        "#unsupervised learning library\n",
        "from sklearn.datasets import load_breast_cancer\n",
        "from sklearn.decomposition import PCA\n",
        "from sklearn.datasets import make_blobs\n",
        "from sklearn.cluster import KMeans\n",
        "from sklearn.metrics import silhouette_score\n",
        "\n",
        "from scipy.spatial.distance import cdist, pdist \n",
        "from sklearn.metrics import silhouette_score\n",
        "from sklearn.svm import LinearSVC\n",
        "from sklearn.cluster import AgglomerativeClustering\n",
        "from sklearn.cluster import DBSCAN\n",
        "from sklearn.neighbors import NearestNeighbors\n",
        "from scipy.cluster.hierarchy import dendrogram, ward, average, complete\n",
        "\n",
        "from sklearn.tree import plot_tree\n",
        "from sklearn import tree\n",
        "import warnings\n",
        "warnings.filterwarnings('ignore')"
      ],
      "execution_count": 166,
      "outputs": [
        {
          "output_type": "stream",
          "text": [
            "/usr/local/lib/python3.7/dist-packages/statsmodels/tools/_testing.py:19: FutureWarning:\n",
            "\n",
            "pandas.util.testing is deprecated. Use the functions in the public API at pandas.testing instead.\n",
            "\n"
          ],
          "name": "stderr"
        }
      ]
    },
    {
      "cell_type": "code",
      "metadata": {
        "colab": {
          "base_uri": "https://localhost:8080/"
        },
        "id": "RQHAfrwOO-iN",
        "outputId": "c27741d3-b34b-4790-eac9-9c694fa64cd3"
      },
      "source": [
        "!pip install category_encoders"
      ],
      "execution_count": 5,
      "outputs": [
        {
          "output_type": "stream",
          "text": [
            "Requirement already satisfied: category_encoders in /usr/local/lib/python3.7/dist-packages (2.2.2)\n",
            "Requirement already satisfied: numpy>=1.14.0 in /usr/local/lib/python3.7/dist-packages (from category_encoders) (1.19.5)\n",
            "Requirement already satisfied: pandas>=0.21.1 in /usr/local/lib/python3.7/dist-packages (from category_encoders) (1.1.5)\n",
            "Requirement already satisfied: patsy>=0.5.1 in /usr/local/lib/python3.7/dist-packages (from category_encoders) (0.5.1)\n",
            "Requirement already satisfied: scikit-learn>=0.20.0 in /usr/local/lib/python3.7/dist-packages (from category_encoders) (0.22.2.post1)\n",
            "Requirement already satisfied: statsmodels>=0.9.0 in /usr/local/lib/python3.7/dist-packages (from category_encoders) (0.10.2)\n",
            "Requirement already satisfied: scipy>=1.0.0 in /usr/local/lib/python3.7/dist-packages (from category_encoders) (1.4.1)\n",
            "Requirement already satisfied: python-dateutil>=2.7.3 in /usr/local/lib/python3.7/dist-packages (from pandas>=0.21.1->category_encoders) (2.8.1)\n",
            "Requirement already satisfied: pytz>=2017.2 in /usr/local/lib/python3.7/dist-packages (from pandas>=0.21.1->category_encoders) (2018.9)\n",
            "Requirement already satisfied: six in /usr/local/lib/python3.7/dist-packages (from patsy>=0.5.1->category_encoders) (1.15.0)\n",
            "Requirement already satisfied: joblib>=0.11 in /usr/local/lib/python3.7/dist-packages (from scikit-learn>=0.20.0->category_encoders) (1.0.1)\n"
          ],
          "name": "stdout"
        }
      ]
    },
    {
      "cell_type": "code",
      "metadata": {
        "colab": {
          "resources": {
            "http://localhost:8080/nbextensions/google.colab/files.js": {
              "data": "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",
              "ok": true,
              "headers": [
                [
                  "content-type",
                  "application/javascript"
                ]
              ],
              "status": 200,
              "status_text": ""
            }
          },
          "base_uri": "https://localhost:8080/",
          "height": 72
        },
        "id": "BUsbHn4T3IJu",
        "outputId": "609a12fc-be98-42af-f825-fe0d9fb64a83"
      },
      "source": [
        "from google.colab import files\n",
        "upload = files.upload()"
      ],
      "execution_count": 4,
      "outputs": [
        {
          "output_type": "display_data",
          "data": {
            "text/html": [
              "\n",
              "     <input type=\"file\" id=\"files-3d0e38b0-ed7a-4faa-aa0a-cb0386834b33\" name=\"files[]\" multiple disabled\n",
              "        style=\"border:none\" />\n",
              "     <output id=\"result-3d0e38b0-ed7a-4faa-aa0a-cb0386834b33\">\n",
              "      Upload widget is only available when the cell has been executed in the\n",
              "      current browser session. Please rerun this cell to enable.\n",
              "      </output>\n",
              "      <script src=\"/nbextensions/google.colab/files.js\"></script> "
            ],
            "text/plain": [
              "<IPython.core.display.HTML object>"
            ]
          },
          "metadata": {
            "tags": []
          }
        },
        {
          "output_type": "stream",
          "text": [
            "Saving unclean cclass.csv to unclean cclass.csv\n"
          ],
          "name": "stdout"
        }
      ]
    },
    {
      "cell_type": "code",
      "metadata": {
        "id": "uHh3NB6i4c2A"
      },
      "source": [
        "data = pd.read_csv('unclean cclass.csv')"
      ],
      "execution_count": 8,
      "outputs": []
    },
    {
      "cell_type": "code",
      "metadata": {
        "id": "3O-83ZGQ9Lnu"
      },
      "source": [
        "def analyze(column):\n",
        "  data = {}\n",
        "  data['Column'] = column.name\n",
        "  data['Mean'] = st.mean(column)\n",
        "  data['Mode'] = Counter(column).most_common()[0][0]\n",
        "  data['Median'] = st.median(column)\n",
        "  data['Variance'] = st.variance(column)\n",
        "  data['Standard Deviation'] = st.stdev(column)\n",
        "  data['Skew'] = column.skew()\n",
        "  return pd.DataFrame([data])\n",
        "\n",
        "def dataframe_analysis(df):\n",
        "  result = pd.DataFrame()\n",
        "\n",
        "  for col in df.columns:\n",
        "    analysis = analyze(df[col])\n",
        "    result = result.append(analysis)\n",
        "\n",
        "  return result.reset_index(drop=True)\n",
        "\n",
        "def plot_distribution(column):\n",
        "  f, (ax_box, ax_hist) = plt.subplots(nrows=2, \n",
        "                                      sharex=True, \n",
        "                                      figsize=(8, 5),\n",
        "                                      gridspec_kw={\"height_ratios\": {0.2, 1}})\n",
        "  \n",
        "  info = analyze(column)\n",
        "  mean = info['Mean'].values[0]\n",
        "  median = info['Median'].values[0]\n",
        "  mode = info['Mode'].values[0]\n",
        "\n",
        "  sns.boxplot(x=column, ax=ax_box)\n",
        "  ax_box.axvline(mean, color='r', linestyle='--')\n",
        "  ax_box.axvline(median, color='g', linestyle=':')\n",
        "  ax_box.axvline(mode, color='b', linestyle='-')\n",
        "  ax_box.set(xlabel='')\n",
        "\n",
        "  sns.histplot(x=column, ax=ax_hist, kde=True)\n",
        "  ax_hist.axvline(mean, color='r', linestyle='--')\n",
        "  ax_hist.axvline(median, color='g', linestyle=':')\n",
        "  ax_hist.axvline(mode, color='b', linestyle='-')\n",
        "\n",
        "  plt.legend({'Mean':mean, 'Median':median, 'Mode':mode})\n",
        "  plt.show()\n"
      ],
      "execution_count": 6,
      "outputs": []
    },
    {
      "cell_type": "markdown",
      "metadata": {
        "id": "-YYdj3n74r8B"
      },
      "source": [
        "# 1. Problem Framing"
      ]
    },
    {
      "cell_type": "markdown",
      "metadata": {
        "id": "rky3T9N_4-8r"
      },
      "source": [
        "**1.1 Business objective apa yang hendak dicapai melalui proyek ini?**\n",
        "\n",
        "Untuk memprediksi harga mobil cclass\n",
        "\n",
        "**1.2 Keluaran (output) seperti apa yang akan dihasilkan dari proyek ini dan bagaimana end user atau stakeholder akan memanfaatkan keluaran tersebut?**\n",
        "\n",
        "stake holder akan bisa membuat valuasi mobil. ini akan menolong bisnis dealership second hand untuk setting harga.\n",
        "\n",
        "**1.3 Machine learning task apa yang akan dikerjakan? (supervised/unsupervised learning, classification/regression/clustering/dimensionality reduction problem dsb.)**\n",
        "\n",
        "supervised.\n",
        "\n",
        "- lin reg\n",
        "- KNN\n",
        "- forest\n",
        "\n",
        "**1.4 Performance measure apa yang akan digunakan di dalam proyek ini?**\n",
        "\n",
        "- cross val score\n",
        "\n",
        "**1.5 Risiko seperti apa yang mungkin diakibatkan oleh kesalahan prediksi dari model kalian?**\n",
        "\n",
        "- bisnis over value/ under value asset mereka dalam perjualan\n",
        "- over value * tidak ada yang beli\n",
        "- under value * rugi"
      ]
    },
    {
      "cell_type": "markdown",
      "metadata": {
        "id": "yOO9U80n6XpZ"
      },
      "source": [
        "# 2. EDA"
      ]
    },
    {
      "cell_type": "code",
      "metadata": {
        "colab": {
          "base_uri": "https://localhost:8080/",
          "height": 204
        },
        "id": "jwKCfBIdBpRc",
        "outputId": "02082fc9-1e37-49b2-d01e-31056fb55d4c"
      },
      "source": [
        "data.head()"
      ],
      "execution_count": 9,
      "outputs": [
        {
          "output_type": "execute_result",
          "data": {
            "text/html": [
              "<div>\n",
              "<style scoped>\n",
              "    .dataframe tbody tr th:only-of-type {\n",
              "        vertical-align: middle;\n",
              "    }\n",
              "\n",
              "    .dataframe tbody tr th {\n",
              "        vertical-align: top;\n",
              "    }\n",
              "\n",
              "    .dataframe thead th {\n",
              "        text-align: right;\n",
              "    }\n",
              "</style>\n",
              "<table border=\"1\" class=\"dataframe\">\n",
              "  <thead>\n",
              "    <tr style=\"text-align: right;\">\n",
              "      <th></th>\n",
              "      <th>model</th>\n",
              "      <th>year</th>\n",
              "      <th>price</th>\n",
              "      <th>transmission</th>\n",
              "      <th>mileage</th>\n",
              "      <th>fuel type</th>\n",
              "      <th>engine size</th>\n",
              "      <th>mileage2</th>\n",
              "      <th>fuel type2</th>\n",
              "      <th>engine size2</th>\n",
              "      <th>reference</th>\n",
              "    </tr>\n",
              "  </thead>\n",
              "  <tbody>\n",
              "    <tr>\n",
              "      <th>0</th>\n",
              "      <td>C Class</td>\n",
              "      <td>2020.0</td>\n",
              "      <td>£30,495</td>\n",
              "      <td>Automatic</td>\n",
              "      <td>NaN</td>\n",
              "      <td>Diesel</td>\n",
              "      <td>2</td>\n",
              "      <td>1,200</td>\n",
              "      <td>NaN</td>\n",
              "      <td>NaN</td>\n",
              "      <td>/ad/25017331</td>\n",
              "    </tr>\n",
              "    <tr>\n",
              "      <th>1</th>\n",
              "      <td>C Class</td>\n",
              "      <td>2020.0</td>\n",
              "      <td>£29,989</td>\n",
              "      <td>Automatic</td>\n",
              "      <td>NaN</td>\n",
              "      <td>Petrol</td>\n",
              "      <td>1.5</td>\n",
              "      <td>1,000</td>\n",
              "      <td>NaN</td>\n",
              "      <td>NaN</td>\n",
              "      <td>/ad/25043746</td>\n",
              "    </tr>\n",
              "    <tr>\n",
              "      <th>2</th>\n",
              "      <td>C Class</td>\n",
              "      <td>2020.0</td>\n",
              "      <td>£37,899</td>\n",
              "      <td>Automatic</td>\n",
              "      <td>NaN</td>\n",
              "      <td>Diesel</td>\n",
              "      <td>2</td>\n",
              "      <td>500</td>\n",
              "      <td>NaN</td>\n",
              "      <td>NaN</td>\n",
              "      <td>/ad/25142894</td>\n",
              "    </tr>\n",
              "    <tr>\n",
              "      <th>3</th>\n",
              "      <td>C Class</td>\n",
              "      <td>2019.0</td>\n",
              "      <td>£30,399</td>\n",
              "      <td>Automatic</td>\n",
              "      <td>NaN</td>\n",
              "      <td>Diesel</td>\n",
              "      <td>2</td>\n",
              "      <td>5,000</td>\n",
              "      <td>NaN</td>\n",
              "      <td>NaN</td>\n",
              "      <td>/ad/24942816</td>\n",
              "    </tr>\n",
              "    <tr>\n",
              "      <th>4</th>\n",
              "      <td>C Class</td>\n",
              "      <td>2019.0</td>\n",
              "      <td>£29,899</td>\n",
              "      <td>Automatic</td>\n",
              "      <td>NaN</td>\n",
              "      <td>Diesel</td>\n",
              "      <td>2</td>\n",
              "      <td>4,500</td>\n",
              "      <td>NaN</td>\n",
              "      <td>NaN</td>\n",
              "      <td>/ad/24913660</td>\n",
              "    </tr>\n",
              "  </tbody>\n",
              "</table>\n",
              "</div>"
            ],
            "text/plain": [
              "      model    year     price  ... fuel type2 engine size2     reference\n",
              "0   C Class  2020.0   £30,495  ...        NaN          NaN  /ad/25017331\n",
              "1   C Class  2020.0   £29,989  ...        NaN          NaN  /ad/25043746\n",
              "2   C Class  2020.0   £37,899  ...        NaN          NaN  /ad/25142894\n",
              "3   C Class  2019.0   £30,399  ...        NaN          NaN  /ad/24942816\n",
              "4   C Class  2019.0   £29,899  ...        NaN          NaN  /ad/24913660\n",
              "\n",
              "[5 rows x 11 columns]"
            ]
          },
          "metadata": {
            "tags": []
          },
          "execution_count": 9
        }
      ]
    },
    {
      "cell_type": "code",
      "metadata": {
        "colab": {
          "base_uri": "https://localhost:8080/"
        },
        "id": "jjeVZB2m6gQx",
        "outputId": "1ecc871e-3705-4bb6-d1d2-32ecc1a15f4b"
      },
      "source": [
        "data.info()"
      ],
      "execution_count": 10,
      "outputs": [
        {
          "output_type": "stream",
          "text": [
            "<class 'pandas.core.frame.DataFrame'>\n",
            "RangeIndex: 4006 entries, 0 to 4005\n",
            "Data columns (total 11 columns):\n",
            " #   Column        Non-Null Count  Dtype  \n",
            "---  ------        --------------  -----  \n",
            " 0   model         3907 non-null   object \n",
            " 1   year          3904 non-null   float64\n",
            " 2   price         3907 non-null   object \n",
            " 3   transmission  3907 non-null   object \n",
            " 4   mileage       3808 non-null   object \n",
            " 5   fuel type     1329 non-null   object \n",
            " 6   engine size   3842 non-null   object \n",
            " 7   mileage2      3890 non-null   object \n",
            " 8   fuel type2    3808 non-null   object \n",
            " 9   engine size2  3808 non-null   object \n",
            " 10  reference     3907 non-null   object \n",
            "dtypes: float64(1), object(10)\n",
            "memory usage: 344.4+ KB\n"
          ],
          "name": "stdout"
        }
      ]
    },
    {
      "cell_type": "markdown",
      "metadata": {
        "id": "i200CiSe-Va1"
      },
      "source": [
        "Data dalam tabel ini mempunyai banyak Dtype yang object.\n",
        "- data-data object ini harus di encode sewaktu pre processing.\n",
        "- untuk melakukan EDA kita akan melakukan initial data pre processing."
      ]
    },
    {
      "cell_type": "code",
      "metadata": {
        "colab": {
          "base_uri": "https://localhost:8080/"
        },
        "id": "nhp8dP6Q6iKZ",
        "outputId": "4443405e-d72c-4684-eb31-d23a6b6914e6"
      },
      "source": [
        "data.isnull().sum()"
      ],
      "execution_count": 11,
      "outputs": [
        {
          "output_type": "execute_result",
          "data": {
            "text/plain": [
              "model             99\n",
              "year             102\n",
              "price             99\n",
              "transmission      99\n",
              "mileage          198\n",
              "fuel type       2677\n",
              "engine size      164\n",
              "mileage2         116\n",
              "fuel type2       198\n",
              "engine size2     198\n",
              "reference         99\n",
              "dtype: int64"
            ]
          },
          "metadata": {
            "tags": []
          },
          "execution_count": 11
        }
      ]
    },
    {
      "cell_type": "markdown",
      "metadata": {
        "id": "Ea8n7JfmDcHi"
      },
      "source": [
        "column price adalah target dari model kita berarti itu column yang penting.\n",
        "\n",
        "- Untuk membuat dataset lebih akurat kita akan drop column column dimana price itu Nan.\n",
        "- column price juga akan di convert dari string menjadi integer untuk mempermudah EDA.\n",
        "\n",
        "Selain column price, banyak fitur fitur juga berbasis object.\n",
        "\n",
        "- Dtype object akan susah di proses untuk Model dan juga untuk melakukan EDA."
      ]
    },
    {
      "cell_type": "code",
      "metadata": {
        "colab": {
          "base_uri": "https://localhost:8080/",
          "height": 204
        },
        "id": "GgquAPgqBthv",
        "outputId": "c3b9aec1-4890-4916-efd3-5793cd76503b"
      },
      "source": [
        "data.head()"
      ],
      "execution_count": 12,
      "outputs": [
        {
          "output_type": "execute_result",
          "data": {
            "text/html": [
              "<div>\n",
              "<style scoped>\n",
              "    .dataframe tbody tr th:only-of-type {\n",
              "        vertical-align: middle;\n",
              "    }\n",
              "\n",
              "    .dataframe tbody tr th {\n",
              "        vertical-align: top;\n",
              "    }\n",
              "\n",
              "    .dataframe thead th {\n",
              "        text-align: right;\n",
              "    }\n",
              "</style>\n",
              "<table border=\"1\" class=\"dataframe\">\n",
              "  <thead>\n",
              "    <tr style=\"text-align: right;\">\n",
              "      <th></th>\n",
              "      <th>model</th>\n",
              "      <th>year</th>\n",
              "      <th>price</th>\n",
              "      <th>transmission</th>\n",
              "      <th>mileage</th>\n",
              "      <th>fuel type</th>\n",
              "      <th>engine size</th>\n",
              "      <th>mileage2</th>\n",
              "      <th>fuel type2</th>\n",
              "      <th>engine size2</th>\n",
              "      <th>reference</th>\n",
              "    </tr>\n",
              "  </thead>\n",
              "  <tbody>\n",
              "    <tr>\n",
              "      <th>0</th>\n",
              "      <td>C Class</td>\n",
              "      <td>2020.0</td>\n",
              "      <td>£30,495</td>\n",
              "      <td>Automatic</td>\n",
              "      <td>NaN</td>\n",
              "      <td>Diesel</td>\n",
              "      <td>2</td>\n",
              "      <td>1,200</td>\n",
              "      <td>NaN</td>\n",
              "      <td>NaN</td>\n",
              "      <td>/ad/25017331</td>\n",
              "    </tr>\n",
              "    <tr>\n",
              "      <th>1</th>\n",
              "      <td>C Class</td>\n",
              "      <td>2020.0</td>\n",
              "      <td>£29,989</td>\n",
              "      <td>Automatic</td>\n",
              "      <td>NaN</td>\n",
              "      <td>Petrol</td>\n",
              "      <td>1.5</td>\n",
              "      <td>1,000</td>\n",
              "      <td>NaN</td>\n",
              "      <td>NaN</td>\n",
              "      <td>/ad/25043746</td>\n",
              "    </tr>\n",
              "    <tr>\n",
              "      <th>2</th>\n",
              "      <td>C Class</td>\n",
              "      <td>2020.0</td>\n",
              "      <td>£37,899</td>\n",
              "      <td>Automatic</td>\n",
              "      <td>NaN</td>\n",
              "      <td>Diesel</td>\n",
              "      <td>2</td>\n",
              "      <td>500</td>\n",
              "      <td>NaN</td>\n",
              "      <td>NaN</td>\n",
              "      <td>/ad/25142894</td>\n",
              "    </tr>\n",
              "    <tr>\n",
              "      <th>3</th>\n",
              "      <td>C Class</td>\n",
              "      <td>2019.0</td>\n",
              "      <td>£30,399</td>\n",
              "      <td>Automatic</td>\n",
              "      <td>NaN</td>\n",
              "      <td>Diesel</td>\n",
              "      <td>2</td>\n",
              "      <td>5,000</td>\n",
              "      <td>NaN</td>\n",
              "      <td>NaN</td>\n",
              "      <td>/ad/24942816</td>\n",
              "    </tr>\n",
              "    <tr>\n",
              "      <th>4</th>\n",
              "      <td>C Class</td>\n",
              "      <td>2019.0</td>\n",
              "      <td>£29,899</td>\n",
              "      <td>Automatic</td>\n",
              "      <td>NaN</td>\n",
              "      <td>Diesel</td>\n",
              "      <td>2</td>\n",
              "      <td>4,500</td>\n",
              "      <td>NaN</td>\n",
              "      <td>NaN</td>\n",
              "      <td>/ad/24913660</td>\n",
              "    </tr>\n",
              "  </tbody>\n",
              "</table>\n",
              "</div>"
            ],
            "text/plain": [
              "      model    year     price  ... fuel type2 engine size2     reference\n",
              "0   C Class  2020.0   £30,495  ...        NaN          NaN  /ad/25017331\n",
              "1   C Class  2020.0   £29,989  ...        NaN          NaN  /ad/25043746\n",
              "2   C Class  2020.0   £37,899  ...        NaN          NaN  /ad/25142894\n",
              "3   C Class  2019.0   £30,399  ...        NaN          NaN  /ad/24942816\n",
              "4   C Class  2019.0   £29,899  ...        NaN          NaN  /ad/24913660\n",
              "\n",
              "[5 rows x 11 columns]"
            ]
          },
          "metadata": {
            "tags": []
          },
          "execution_count": 12
        }
      ]
    },
    {
      "cell_type": "code",
      "metadata": {
        "colab": {
          "base_uri": "https://localhost:8080/",
          "height": 204
        },
        "id": "xgZzk6jSeIuM",
        "outputId": "ed6df82c-3092-48c0-f492-2f48660be8e9"
      },
      "source": [
        "data.tail()"
      ],
      "execution_count": 13,
      "outputs": [
        {
          "output_type": "execute_result",
          "data": {
            "text/html": [
              "<div>\n",
              "<style scoped>\n",
              "    .dataframe tbody tr th:only-of-type {\n",
              "        vertical-align: middle;\n",
              "    }\n",
              "\n",
              "    .dataframe tbody tr th {\n",
              "        vertical-align: top;\n",
              "    }\n",
              "\n",
              "    .dataframe thead th {\n",
              "        text-align: right;\n",
              "    }\n",
              "</style>\n",
              "<table border=\"1\" class=\"dataframe\">\n",
              "  <thead>\n",
              "    <tr style=\"text-align: right;\">\n",
              "      <th></th>\n",
              "      <th>model</th>\n",
              "      <th>year</th>\n",
              "      <th>price</th>\n",
              "      <th>transmission</th>\n",
              "      <th>mileage</th>\n",
              "      <th>fuel type</th>\n",
              "      <th>engine size</th>\n",
              "      <th>mileage2</th>\n",
              "      <th>fuel type2</th>\n",
              "      <th>engine size2</th>\n",
              "      <th>reference</th>\n",
              "    </tr>\n",
              "  </thead>\n",
              "  <tbody>\n",
              "    <tr>\n",
              "      <th>4001</th>\n",
              "      <td>C Class</td>\n",
              "      <td>2017.0</td>\n",
              "      <td>£14,700</td>\n",
              "      <td>Manual</td>\n",
              "      <td>31,357</td>\n",
              "      <td>25</td>\n",
              "      <td>£150</td>\n",
              "      <td>70.6</td>\n",
              "      <td>Diesel</td>\n",
              "      <td>1.598</td>\n",
              "      <td>/ad/25451436</td>\n",
              "    </tr>\n",
              "    <tr>\n",
              "      <th>4002</th>\n",
              "      <td>C Class</td>\n",
              "      <td>2018.0</td>\n",
              "      <td>£18,500</td>\n",
              "      <td>Automatic</td>\n",
              "      <td>28,248</td>\n",
              "      <td>31</td>\n",
              "      <td>£150</td>\n",
              "      <td>64.2</td>\n",
              "      <td>Diesel</td>\n",
              "      <td>2.143</td>\n",
              "      <td>/ad/25451481</td>\n",
              "    </tr>\n",
              "    <tr>\n",
              "      <th>4003</th>\n",
              "      <td>C Class</td>\n",
              "      <td>2014.0</td>\n",
              "      <td>£11,900</td>\n",
              "      <td>Manual</td>\n",
              "      <td>48,055</td>\n",
              "      <td>31</td>\n",
              "      <td>£20</td>\n",
              "      <td>65.7</td>\n",
              "      <td>Diesel</td>\n",
              "      <td>2.143</td>\n",
              "      <td>/ad/25057204</td>\n",
              "    </tr>\n",
              "    <tr>\n",
              "      <th>4004</th>\n",
              "      <td>C Class</td>\n",
              "      <td>2014.0</td>\n",
              "      <td>£11,300</td>\n",
              "      <td>Automatic</td>\n",
              "      <td>49,865</td>\n",
              "      <td>46</td>\n",
              "      <td>£145</td>\n",
              "      <td>56.5</td>\n",
              "      <td>Diesel</td>\n",
              "      <td>2.143</td>\n",
              "      <td>/ad/25144481</td>\n",
              "    </tr>\n",
              "    <tr>\n",
              "      <th>4005</th>\n",
              "      <td>C Class</td>\n",
              "      <td>2014.0</td>\n",
              "      <td>£14,800</td>\n",
              "      <td>Automatic</td>\n",
              "      <td>55,445</td>\n",
              "      <td>37</td>\n",
              "      <td>£30</td>\n",
              "      <td>64.2</td>\n",
              "      <td>Diesel</td>\n",
              "      <td>2.143</td>\n",
              "      <td>/ad/25154247</td>\n",
              "    </tr>\n",
              "  </tbody>\n",
              "</table>\n",
              "</div>"
            ],
            "text/plain": [
              "         model    year     price  ... fuel type2 engine size2     reference\n",
              "4001   C Class  2017.0   £14,700  ...     Diesel        1.598  /ad/25451436\n",
              "4002   C Class  2018.0   £18,500  ...     Diesel        2.143  /ad/25451481\n",
              "4003   C Class  2014.0   £11,900  ...     Diesel        2.143  /ad/25057204\n",
              "4004   C Class  2014.0   £11,300  ...     Diesel        2.143  /ad/25144481\n",
              "4005   C Class  2014.0   £14,800  ...     Diesel        2.143  /ad/25154247\n",
              "\n",
              "[5 rows x 11 columns]"
            ]
          },
          "metadata": {
            "tags": []
          },
          "execution_count": 13
        }
      ]
    },
    {
      "cell_type": "code",
      "metadata": {
        "colab": {
          "base_uri": "https://localhost:8080/",
          "height": 691
        },
        "id": "GNm7di_4I7XC",
        "outputId": "06fa635a-eb1b-44f6-b41f-c4fceb5231ff"
      },
      "source": [
        "# Kita akan splitting column yang mempunyai Dtype object dan non object\n",
        "obj = data.select_dtypes(include='object')\n",
        "na_obj = data.select_dtypes(exclude='object')\n",
        "\n",
        "# Remove ',' dan '£' dari semua column\n",
        "for i in obj.columns:\n",
        "  obj[i] = obj[i].str.replace(',', '')\n",
        "  obj[i] = obj[i].str.replace('£', '')\n",
        "\n",
        "\n",
        "obj.reset_index(drop=True,inplace=True)\n",
        "na_obj.reset_index(drop=True,inplace=True)\n",
        "\n",
        "df = pd.concat([na_obj,obj],axis=1)\n",
        "df"
      ],
      "execution_count": 15,
      "outputs": [
        {
          "output_type": "stream",
          "text": [
            "/usr/local/lib/python3.7/dist-packages/ipykernel_launcher.py:7: SettingWithCopyWarning:\n",
            "\n",
            "\n",
            "A value is trying to be set on a copy of a slice from a DataFrame.\n",
            "Try using .loc[row_indexer,col_indexer] = value instead\n",
            "\n",
            "See the caveats in the documentation: https://pandas.pydata.org/pandas-docs/stable/user_guide/indexing.html#returning-a-view-versus-a-copy\n",
            "\n",
            "/usr/local/lib/python3.7/dist-packages/ipykernel_launcher.py:8: SettingWithCopyWarning:\n",
            "\n",
            "\n",
            "A value is trying to be set on a copy of a slice from a DataFrame.\n",
            "Try using .loc[row_indexer,col_indexer] = value instead\n",
            "\n",
            "See the caveats in the documentation: https://pandas.pydata.org/pandas-docs/stable/user_guide/indexing.html#returning-a-view-versus-a-copy\n",
            "\n"
          ],
          "name": "stderr"
        },
        {
          "output_type": "execute_result",
          "data": {
            "text/html": [
              "<div>\n",
              "<style scoped>\n",
              "    .dataframe tbody tr th:only-of-type {\n",
              "        vertical-align: middle;\n",
              "    }\n",
              "\n",
              "    .dataframe tbody tr th {\n",
              "        vertical-align: top;\n",
              "    }\n",
              "\n",
              "    .dataframe thead th {\n",
              "        text-align: right;\n",
              "    }\n",
              "</style>\n",
              "<table border=\"1\" class=\"dataframe\">\n",
              "  <thead>\n",
              "    <tr style=\"text-align: right;\">\n",
              "      <th></th>\n",
              "      <th>year</th>\n",
              "      <th>model</th>\n",
              "      <th>price</th>\n",
              "      <th>transmission</th>\n",
              "      <th>mileage</th>\n",
              "      <th>fuel type</th>\n",
              "      <th>engine size</th>\n",
              "      <th>mileage2</th>\n",
              "      <th>fuel type2</th>\n",
              "      <th>engine size2</th>\n",
              "      <th>reference</th>\n",
              "    </tr>\n",
              "  </thead>\n",
              "  <tbody>\n",
              "    <tr>\n",
              "      <th>0</th>\n",
              "      <td>2020.0</td>\n",
              "      <td>C Class</td>\n",
              "      <td>30495</td>\n",
              "      <td>Automatic</td>\n",
              "      <td>NaN</td>\n",
              "      <td>Diesel</td>\n",
              "      <td>2</td>\n",
              "      <td>1200</td>\n",
              "      <td>NaN</td>\n",
              "      <td>NaN</td>\n",
              "      <td>/ad/25017331</td>\n",
              "    </tr>\n",
              "    <tr>\n",
              "      <th>1</th>\n",
              "      <td>2020.0</td>\n",
              "      <td>C Class</td>\n",
              "      <td>29989</td>\n",
              "      <td>Automatic</td>\n",
              "      <td>NaN</td>\n",
              "      <td>Petrol</td>\n",
              "      <td>1.5</td>\n",
              "      <td>1000</td>\n",
              "      <td>NaN</td>\n",
              "      <td>NaN</td>\n",
              "      <td>/ad/25043746</td>\n",
              "    </tr>\n",
              "    <tr>\n",
              "      <th>2</th>\n",
              "      <td>2020.0</td>\n",
              "      <td>C Class</td>\n",
              "      <td>37899</td>\n",
              "      <td>Automatic</td>\n",
              "      <td>NaN</td>\n",
              "      <td>Diesel</td>\n",
              "      <td>2</td>\n",
              "      <td>500</td>\n",
              "      <td>NaN</td>\n",
              "      <td>NaN</td>\n",
              "      <td>/ad/25142894</td>\n",
              "    </tr>\n",
              "    <tr>\n",
              "      <th>3</th>\n",
              "      <td>2019.0</td>\n",
              "      <td>C Class</td>\n",
              "      <td>30399</td>\n",
              "      <td>Automatic</td>\n",
              "      <td>NaN</td>\n",
              "      <td>Diesel</td>\n",
              "      <td>2</td>\n",
              "      <td>5000</td>\n",
              "      <td>NaN</td>\n",
              "      <td>NaN</td>\n",
              "      <td>/ad/24942816</td>\n",
              "    </tr>\n",
              "    <tr>\n",
              "      <th>4</th>\n",
              "      <td>2019.0</td>\n",
              "      <td>C Class</td>\n",
              "      <td>29899</td>\n",
              "      <td>Automatic</td>\n",
              "      <td>NaN</td>\n",
              "      <td>Diesel</td>\n",
              "      <td>2</td>\n",
              "      <td>4500</td>\n",
              "      <td>NaN</td>\n",
              "      <td>NaN</td>\n",
              "      <td>/ad/24913660</td>\n",
              "    </tr>\n",
              "    <tr>\n",
              "      <th>...</th>\n",
              "      <td>...</td>\n",
              "      <td>...</td>\n",
              "      <td>...</td>\n",
              "      <td>...</td>\n",
              "      <td>...</td>\n",
              "      <td>...</td>\n",
              "      <td>...</td>\n",
              "      <td>...</td>\n",
              "      <td>...</td>\n",
              "      <td>...</td>\n",
              "      <td>...</td>\n",
              "    </tr>\n",
              "    <tr>\n",
              "      <th>4001</th>\n",
              "      <td>2017.0</td>\n",
              "      <td>C Class</td>\n",
              "      <td>14700</td>\n",
              "      <td>Manual</td>\n",
              "      <td>31357</td>\n",
              "      <td>25</td>\n",
              "      <td>150</td>\n",
              "      <td>70.6</td>\n",
              "      <td>Diesel</td>\n",
              "      <td>1.598</td>\n",
              "      <td>/ad/25451436</td>\n",
              "    </tr>\n",
              "    <tr>\n",
              "      <th>4002</th>\n",
              "      <td>2018.0</td>\n",
              "      <td>C Class</td>\n",
              "      <td>18500</td>\n",
              "      <td>Automatic</td>\n",
              "      <td>28248</td>\n",
              "      <td>31</td>\n",
              "      <td>150</td>\n",
              "      <td>64.2</td>\n",
              "      <td>Diesel</td>\n",
              "      <td>2.143</td>\n",
              "      <td>/ad/25451481</td>\n",
              "    </tr>\n",
              "    <tr>\n",
              "      <th>4003</th>\n",
              "      <td>2014.0</td>\n",
              "      <td>C Class</td>\n",
              "      <td>11900</td>\n",
              "      <td>Manual</td>\n",
              "      <td>48055</td>\n",
              "      <td>31</td>\n",
              "      <td>20</td>\n",
              "      <td>65.7</td>\n",
              "      <td>Diesel</td>\n",
              "      <td>2.143</td>\n",
              "      <td>/ad/25057204</td>\n",
              "    </tr>\n",
              "    <tr>\n",
              "      <th>4004</th>\n",
              "      <td>2014.0</td>\n",
              "      <td>C Class</td>\n",
              "      <td>11300</td>\n",
              "      <td>Automatic</td>\n",
              "      <td>49865</td>\n",
              "      <td>46</td>\n",
              "      <td>145</td>\n",
              "      <td>56.5</td>\n",
              "      <td>Diesel</td>\n",
              "      <td>2.143</td>\n",
              "      <td>/ad/25144481</td>\n",
              "    </tr>\n",
              "    <tr>\n",
              "      <th>4005</th>\n",
              "      <td>2014.0</td>\n",
              "      <td>C Class</td>\n",
              "      <td>14800</td>\n",
              "      <td>Automatic</td>\n",
              "      <td>55445</td>\n",
              "      <td>37</td>\n",
              "      <td>30</td>\n",
              "      <td>64.2</td>\n",
              "      <td>Diesel</td>\n",
              "      <td>2.143</td>\n",
              "      <td>/ad/25154247</td>\n",
              "    </tr>\n",
              "  </tbody>\n",
              "</table>\n",
              "<p>4006 rows × 11 columns</p>\n",
              "</div>"
            ],
            "text/plain": [
              "        year     model   price  ... fuel type2 engine size2     reference\n",
              "0     2020.0   C Class   30495  ...        NaN          NaN  /ad/25017331\n",
              "1     2020.0   C Class   29989  ...        NaN          NaN  /ad/25043746\n",
              "2     2020.0   C Class   37899  ...        NaN          NaN  /ad/25142894\n",
              "3     2019.0   C Class   30399  ...        NaN          NaN  /ad/24942816\n",
              "4     2019.0   C Class   29899  ...        NaN          NaN  /ad/24913660\n",
              "...      ...       ...     ...  ...        ...          ...           ...\n",
              "4001  2017.0   C Class   14700  ...     Diesel        1.598  /ad/25451436\n",
              "4002  2018.0   C Class   18500  ...     Diesel        2.143  /ad/25451481\n",
              "4003  2014.0   C Class   11900  ...     Diesel        2.143  /ad/25057204\n",
              "4004  2014.0   C Class   11300  ...     Diesel        2.143  /ad/25144481\n",
              "4005  2014.0   C Class   14800  ...     Diesel        2.143  /ad/25154247\n",
              "\n",
              "[4006 rows x 11 columns]"
            ]
          },
          "metadata": {
            "tags": []
          },
          "execution_count": 15
        }
      ]
    },
    {
      "cell_type": "markdown",
      "metadata": {
        "id": "cqJqWGphf4nk"
      },
      "source": [
        "Jumlah Nan Value lumayan banyak dari dataset ini. \n",
        "\n",
        "- Untuk mempermudah proses kita akan drop nan value.\n",
        "- ini di justify dengan adanya banyak Nan value di fitur categorical yang mungkin agak bahaya untuk isi dengan mean/median/mode."
      ]
    },
    {
      "cell_type": "code",
      "metadata": {
        "colab": {
          "base_uri": "https://localhost:8080/"
        },
        "id": "G5c4WgJrfcIA",
        "outputId": "afde3a14-5ec6-4e83-96bc-16007f423f9f"
      },
      "source": [
        "print('Before Drop :',df.shape)\n",
        "df.dropna(inplace = True)"
      ],
      "execution_count": 16,
      "outputs": [
        {
          "output_type": "stream",
          "text": [
            "Before Drop : (4006, 11)\n"
          ],
          "name": "stdout"
        }
      ]
    },
    {
      "cell_type": "code",
      "metadata": {
        "colab": {
          "base_uri": "https://localhost:8080/"
        },
        "id": "N8mlT97yhJAo",
        "outputId": "8e3c45b8-5515-49b8-9543-5d59411ad735"
      },
      "source": [
        "print('After Drop :',df.shape)"
      ],
      "execution_count": 17,
      "outputs": [
        {
          "output_type": "stream",
          "text": [
            "After Drop : (1208, 11)\n"
          ],
          "name": "stdout"
        }
      ]
    },
    {
      "cell_type": "markdown",
      "metadata": {
        "id": "JNxlkoUuh_Lj"
      },
      "source": [
        "Data dalam table masih banyak yang object. \n",
        "- kita akan convert berberapa fitur menjadi int biar bisa di visualise."
      ]
    },
    {
      "cell_type": "code",
      "metadata": {
        "colab": {
          "base_uri": "https://localhost:8080/"
        },
        "id": "lUjaxb3Hh-ig",
        "outputId": "22270612-76a4-43d4-e702-af157dfa9e7e"
      },
      "source": [
        "df.info()"
      ],
      "execution_count": 19,
      "outputs": [
        {
          "output_type": "stream",
          "text": [
            "<class 'pandas.core.frame.DataFrame'>\n",
            "Int64Index: 1208 entries, 10 to 4005\n",
            "Data columns (total 11 columns):\n",
            " #   Column        Non-Null Count  Dtype  \n",
            "---  ------        --------------  -----  \n",
            " 0   year          1208 non-null   float64\n",
            " 1   model         1208 non-null   object \n",
            " 2   price         1208 non-null   object \n",
            " 3   transmission  1208 non-null   object \n",
            " 4   mileage       1208 non-null   object \n",
            " 5   fuel type     1208 non-null   object \n",
            " 6   engine size   1208 non-null   object \n",
            " 7   mileage2      1208 non-null   object \n",
            " 8   fuel type2    1208 non-null   object \n",
            " 9   engine size2  1208 non-null   object \n",
            " 10  reference     1208 non-null   object \n",
            "dtypes: float64(1), object(10)\n",
            "memory usage: 113.2+ KB\n"
          ],
          "name": "stdout"
        }
      ]
    },
    {
      "cell_type": "markdown",
      "metadata": {
        "id": "s4sdS5HKkpVC"
      },
      "source": [
        "Clean up year column"
      ]
    },
    {
      "cell_type": "code",
      "metadata": {
        "id": "TU0AVpzRoWFn"
      },
      "source": [
        "# new column with duplicates of year and as type string\n",
        "df['year Released'] = df['year Released'].astype(str)"
      ],
      "execution_count": 98,
      "outputs": []
    },
    {
      "cell_type": "code",
      "metadata": {
        "id": "TxCxM9URq8Cx"
      },
      "source": [
        "# removing '.0' from end of each year\n",
        "df['year Released'] = df['year Released'].str.rstrip('.0')"
      ],
      "execution_count": 54,
      "outputs": []
    },
    {
      "cell_type": "code",
      "metadata": {
        "id": "TfuPepWeuuGD"
      },
      "source": [
        "# drop year column\n",
        "df.drop(['year'],axis = 1, inplace = True)"
      ],
      "execution_count": 80,
      "outputs": []
    },
    {
      "cell_type": "code",
      "metadata": {
        "colab": {
          "base_uri": "https://localhost:8080/",
          "height": 204
        },
        "id": "-EcY42Z-thEl",
        "outputId": "ebfc51a7-5baf-4f4c-c8ec-401ec8e0035e"
      },
      "source": [
        "df.head()"
      ],
      "execution_count": 99,
      "outputs": [
        {
          "output_type": "execute_result",
          "data": {
            "text/html": [
              "<div>\n",
              "<style scoped>\n",
              "    .dataframe tbody tr th:only-of-type {\n",
              "        vertical-align: middle;\n",
              "    }\n",
              "\n",
              "    .dataframe tbody tr th {\n",
              "        vertical-align: top;\n",
              "    }\n",
              "\n",
              "    .dataframe thead th {\n",
              "        text-align: right;\n",
              "    }\n",
              "</style>\n",
              "<table border=\"1\" class=\"dataframe\">\n",
              "  <thead>\n",
              "    <tr style=\"text-align: right;\">\n",
              "      <th></th>\n",
              "      <th>model</th>\n",
              "      <th>price</th>\n",
              "      <th>transmission</th>\n",
              "      <th>mileage</th>\n",
              "      <th>fuel type</th>\n",
              "      <th>engine size</th>\n",
              "      <th>mileage2</th>\n",
              "      <th>fuel type2</th>\n",
              "      <th>engine size2</th>\n",
              "      <th>reference</th>\n",
              "      <th>year Released</th>\n",
              "    </tr>\n",
              "  </thead>\n",
              "  <tbody>\n",
              "    <tr>\n",
              "      <th>10</th>\n",
              "      <td>C Class</td>\n",
              "      <td>9995</td>\n",
              "      <td>Automatic</td>\n",
              "      <td>44900.0</td>\n",
              "      <td>29</td>\n",
              "      <td>160</td>\n",
              "      <td>46.3</td>\n",
              "      <td>Petrol</td>\n",
              "      <td>1.6</td>\n",
              "      <td>/ad/25128085</td>\n",
              "      <td>2013</td>\n",
              "    </tr>\n",
              "    <tr>\n",
              "      <th>11</th>\n",
              "      <td>C Class</td>\n",
              "      <td>6995</td>\n",
              "      <td>Automatic</td>\n",
              "      <td>88200.0</td>\n",
              "      <td>34</td>\n",
              "      <td>125</td>\n",
              "      <td>58.9</td>\n",
              "      <td>Diesel</td>\n",
              "      <td>2.1</td>\n",
              "      <td>/ad/23763610</td>\n",
              "      <td>2012</td>\n",
              "    </tr>\n",
              "    <tr>\n",
              "      <th>12</th>\n",
              "      <td>C Class</td>\n",
              "      <td>7495</td>\n",
              "      <td>Automatic</td>\n",
              "      <td>115000.0</td>\n",
              "      <td>37</td>\n",
              "      <td>145</td>\n",
              "      <td>54.3</td>\n",
              "      <td>Diesel</td>\n",
              "      <td>2.1</td>\n",
              "      <td>/ad/24626603</td>\n",
              "      <td>2012</td>\n",
              "    </tr>\n",
              "    <tr>\n",
              "      <th>13</th>\n",
              "      <td>C Class</td>\n",
              "      <td>8995</td>\n",
              "      <td>Automatic</td>\n",
              "      <td>69250.0</td>\n",
              "      <td>29</td>\n",
              "      <td>150</td>\n",
              "      <td>53.3</td>\n",
              "      <td>Diesel</td>\n",
              "      <td>2.1</td>\n",
              "      <td>/ad/25462537</td>\n",
              "      <td>2011</td>\n",
              "    </tr>\n",
              "    <tr>\n",
              "      <th>14</th>\n",
              "      <td>C Class</td>\n",
              "      <td>14995</td>\n",
              "      <td>Automatic</td>\n",
              "      <td>49850.0</td>\n",
              "      <td>31</td>\n",
              "      <td>30</td>\n",
              "      <td>62.8</td>\n",
              "      <td>Diesel</td>\n",
              "      <td>2.1</td>\n",
              "      <td>/ad/25479169</td>\n",
              "      <td>2015</td>\n",
              "    </tr>\n",
              "  </tbody>\n",
              "</table>\n",
              "</div>"
            ],
            "text/plain": [
              "       model  price transmission  ...  engine size2     reference year Released\n",
              "10   C Class   9995    Automatic  ...           1.6  /ad/25128085          2013\n",
              "11   C Class   6995    Automatic  ...           2.1  /ad/23763610          2012\n",
              "12   C Class   7495    Automatic  ...           2.1  /ad/24626603          2012\n",
              "13   C Class   8995    Automatic  ...           2.1  /ad/25462537          2011\n",
              "14   C Class  14995    Automatic  ...           2.1  /ad/25479169          2015\n",
              "\n",
              "[5 rows x 11 columns]"
            ]
          },
          "metadata": {
            "tags": []
          },
          "execution_count": 99
        }
      ]
    },
    {
      "cell_type": "code",
      "metadata": {
        "colab": {
          "base_uri": "https://localhost:8080/"
        },
        "id": "_ppUDpJevRI-",
        "outputId": "0b90536a-17b5-45ff-9322-b6e15f54a944"
      },
      "source": [
        "df.info()"
      ],
      "execution_count": 100,
      "outputs": [
        {
          "output_type": "stream",
          "text": [
            "<class 'pandas.core.frame.DataFrame'>\n",
            "Int64Index: 1208 entries, 10 to 4005\n",
            "Data columns (total 11 columns):\n",
            " #   Column         Non-Null Count  Dtype  \n",
            "---  ------         --------------  -----  \n",
            " 0   model          1208 non-null   object \n",
            " 1   price          1208 non-null   int64  \n",
            " 2   transmission   1208 non-null   object \n",
            " 3   mileage        1208 non-null   float64\n",
            " 4   fuel type      1208 non-null   object \n",
            " 5   engine size    1208 non-null   object \n",
            " 6   mileage2       1208 non-null   float64\n",
            " 7   fuel type2     1208 non-null   object \n",
            " 8   engine size2   1208 non-null   object \n",
            " 9   reference      1208 non-null   object \n",
            " 10  year Released  1208 non-null   object \n",
            "dtypes: float64(2), int64(1), object(8)\n",
            "memory usage: 153.2+ KB\n"
          ],
          "name": "stdout"
        }
      ]
    },
    {
      "cell_type": "markdown",
      "metadata": {
        "id": "Z1dqJDtMvXow"
      },
      "source": [
        "Convert price column into dtype int"
      ]
    },
    {
      "cell_type": "code",
      "metadata": {
        "id": "xPWr4JqIvbk6"
      },
      "source": [
        "df['price'] = df['price'].astype(int)"
      ],
      "execution_count": 85,
      "outputs": []
    },
    {
      "cell_type": "code",
      "metadata": {
        "colab": {
          "base_uri": "https://localhost:8080/"
        },
        "id": "eVWEePdevg44",
        "outputId": "6c718f73-8df4-409f-8ba5-b00a0cb33e88"
      },
      "source": [
        "df.info()"
      ],
      "execution_count": 87,
      "outputs": [
        {
          "output_type": "stream",
          "text": [
            "<class 'pandas.core.frame.DataFrame'>\n",
            "Int64Index: 1208 entries, 10 to 4005\n",
            "Data columns (total 11 columns):\n",
            " #   Column         Non-Null Count  Dtype \n",
            "---  ------         --------------  ----- \n",
            " 0   model          1208 non-null   object\n",
            " 1   price          1208 non-null   int64 \n",
            " 2   transmission   1208 non-null   object\n",
            " 3   mileage        1208 non-null   object\n",
            " 4   fuel type      1208 non-null   object\n",
            " 5   engine size    1208 non-null   object\n",
            " 6   mileage2       1208 non-null   object\n",
            " 7   fuel type2     1208 non-null   object\n",
            " 8   engine size2   1208 non-null   object\n",
            " 9   reference      1208 non-null   object\n",
            " 10  year Released  1208 non-null   int64 \n",
            "dtypes: int64(2), object(9)\n",
            "memory usage: 153.2+ KB\n"
          ],
          "name": "stdout"
        }
      ]
    },
    {
      "cell_type": "markdown",
      "metadata": {
        "id": "s-52IHR9vmPH"
      },
      "source": [
        "converting mileage & mileage 2 into dtype int"
      ]
    },
    {
      "cell_type": "code",
      "metadata": {
        "id": "Ry3HkzgIvkmO"
      },
      "source": [
        "df['mileage'] = df['mileage'].astype(float)\n",
        "df['mileage2'] = df['mileage2'].astype(float)"
      ],
      "execution_count": 90,
      "outputs": []
    },
    {
      "cell_type": "code",
      "metadata": {
        "colab": {
          "base_uri": "https://localhost:8080/"
        },
        "id": "mDpT2Dnsv-Tq",
        "outputId": "16f137de-61f0-4668-e93b-fd253e4d670b"
      },
      "source": [
        "df.info()"
      ],
      "execution_count": 91,
      "outputs": [
        {
          "output_type": "stream",
          "text": [
            "<class 'pandas.core.frame.DataFrame'>\n",
            "Int64Index: 1208 entries, 10 to 4005\n",
            "Data columns (total 11 columns):\n",
            " #   Column         Non-Null Count  Dtype  \n",
            "---  ------         --------------  -----  \n",
            " 0   model          1208 non-null   object \n",
            " 1   price          1208 non-null   int64  \n",
            " 2   transmission   1208 non-null   object \n",
            " 3   mileage        1208 non-null   float64\n",
            " 4   fuel type      1208 non-null   object \n",
            " 5   engine size    1208 non-null   object \n",
            " 6   mileage2       1208 non-null   float64\n",
            " 7   fuel type2     1208 non-null   object \n",
            " 8   engine size2   1208 non-null   object \n",
            " 9   reference      1208 non-null   object \n",
            " 10  year Released  1208 non-null   int64  \n",
            "dtypes: float64(2), int64(2), object(7)\n",
            "memory usage: 153.2+ KB\n"
          ],
          "name": "stdout"
        }
      ]
    },
    {
      "cell_type": "markdown",
      "metadata": {
        "id": "9lZFGT6TCMst"
      },
      "source": [
        "Converting engine size & engine size2 to float values.\n"
      ]
    },
    {
      "cell_type": "code",
      "metadata": {
        "id": "jXSE0cE8CSm1"
      },
      "source": [
        "df['engine size'] = df['engine size'].astype(float)"
      ],
      "execution_count": 124,
      "outputs": []
    },
    {
      "cell_type": "code",
      "metadata": {
        "id": "gmGkStdiDogP"
      },
      "source": [
        "df['engine size2'] = df['engine size2'].replace(' ','')"
      ],
      "execution_count": 126,
      "outputs": []
    },
    {
      "cell_type": "code",
      "metadata": {
        "colab": {
          "base_uri": "https://localhost:8080/"
        },
        "id": "d5ynPNFvDdHQ",
        "outputId": "14418156-9dc4-4d7a-e869-04adafdf0dae"
      },
      "source": [
        "df.info()"
      ],
      "execution_count": 128,
      "outputs": [
        {
          "output_type": "stream",
          "text": [
            "<class 'pandas.core.frame.DataFrame'>\n",
            "Int64Index: 1208 entries, 10 to 4005\n",
            "Data columns (total 11 columns):\n",
            " #   Column         Non-Null Count  Dtype  \n",
            "---  ------         --------------  -----  \n",
            " 0   model          1208 non-null   object \n",
            " 1   price          1208 non-null   int64  \n",
            " 2   transmission   1208 non-null   object \n",
            " 3   mileage        1208 non-null   float64\n",
            " 4   fuel type      1208 non-null   object \n",
            " 5   engine size    1208 non-null   float64\n",
            " 6   mileage2       1208 non-null   float64\n",
            " 7   fuel type2     1208 non-null   object \n",
            " 8   engine size2   1208 non-null   object \n",
            " 9   reference      1208 non-null   object \n",
            " 10  year Released  1208 non-null   object \n",
            "dtypes: float64(3), int64(1), object(7)\n",
            "memory usage: 153.2+ KB\n"
          ],
          "name": "stdout"
        }
      ]
    },
    {
      "cell_type": "markdown",
      "metadata": {
        "id": "Q18bp8zJHgKV"
      },
      "source": [
        "1. distribusi data price"
      ]
    },
    {
      "cell_type": "code",
      "metadata": {
        "colab": {
          "base_uri": "https://localhost:8080/",
          "height": 339
        },
        "id": "EUXghHG_FEmB",
        "outputId": "30d49113-840a-4df2-9a13-3c04dbc39490"
      },
      "source": [
        "plot_distribution(df['price'])"
      ],
      "execution_count": 93,
      "outputs": [
        {
          "output_type": "display_data",
          "data": {
            "image/png": "[encoded data removed]",
            "text/plain": [
              "<Figure size 576x360 with 2 Axes>"
            ]
          },
          "metadata": {
            "tags": []
          }
        }
      ]
    },
    {
      "cell_type": "markdown",
      "metadata": {
        "id": "Zj3ONlN6FKvD"
      },
      "source": [
        "Column price mempunyai banyak data outlier\n",
        "\n",
        "\n"
      ]
    },
    {
      "cell_type": "markdown",
      "metadata": {
        "id": "aRkkkjlaHmAM"
      },
      "source": [
        "2. Distribusi data price dengan year"
      ]
    },
    {
      "cell_type": "code",
      "metadata": {
        "colab": {
          "base_uri": "https://localhost:8080/",
          "height": 465
        },
        "id": "lFMdqyUrHT7j",
        "outputId": "f32abeca-ff8d-40ce-9bee-bcaeb9d1802f"
      },
      "source": [
        "order_by = df.groupby(by=['year Released'])['price'].mean().iloc[::-1].index\n",
        "plt.figure(figsize=(15,7))\n",
        "sns.boxplot(x='year Released', y='price', data=df, order = order_by)"
      ],
      "execution_count": 108,
      "outputs": [
        {
          "output_type": "execute_result",
          "data": {
            "text/plain": [
              "<matplotlib.axes._subplots.AxesSubplot at 0x7f15a34ca350>"
            ]
          },
          "metadata": {
            "tags": []
          },
          "execution_count": 108
        },
        {
          "output_type": "display_data",
          "data": {
            "image/png": "[encoded data removed]",
            "text/plain": [
              "<Figure size 1080x504 with 1 Axes>"
            ]
          },
          "metadata": {
            "tags": []
          }
        }
      ]
    },
    {
      "cell_type": "markdown",
      "metadata": {
        "id": "uSDO_LetHvbU"
      },
      "source": [
        "Mobil yang lebih baru mempunyai price point yang lebih tinggi.\n",
        "\n",
        "\n",
        "\n",
        "*   mobil baru sering kali kualitasnya lebih baik dan belum kena depresiasi seperti model model yang lama.\n"
      ]
    },
    {
      "cell_type": "markdown",
      "metadata": {
        "id": "l2aMYARDJZL2"
      },
      "source": [
        "3. distribusi mileage"
      ]
    },
    {
      "cell_type": "code",
      "metadata": {
        "colab": {
          "base_uri": "https://localhost:8080/",
          "height": 339
        },
        "id": "EofLAKPUSP2R",
        "outputId": "7ae7af53-604e-4316-d909-e45697e479d0"
      },
      "source": [
        "plot_distribution(df['mileage'])"
      ],
      "execution_count": 109,
      "outputs": [
        {
          "output_type": "display_data",
          "data": {
            "image/png": "[encoded data removed]",
            "text/plain": [
              "<Figure size 576x360 with 2 Axes>"
            ]
          },
          "metadata": {
            "tags": []
          }
        }
      ]
    },
    {
      "cell_type": "markdown",
      "metadata": {
        "id": "I5EzYK3D0TAQ"
      },
      "source": [
        "Distribusi mileage kelihatan right skewed.\n",
        "\n",
        " - ada banyak outlier yang mileagenya sangat tinggi."
      ]
    },
    {
      "cell_type": "markdown",
      "metadata": {
        "id": "CRh5YpI2OqWk"
      },
      "source": [
        "4. mileage vs price"
      ]
    },
    {
      "cell_type": "code",
      "metadata": {
        "colab": {
          "base_uri": "https://localhost:8080/",
          "height": 411
        },
        "id": "IXp5QsQ8YWKy",
        "outputId": "2cd0197e-70b3-4020-dfa9-3ce47be7ebb0"
      },
      "source": [
        "plt.figure(figsize=(12,6))\n",
        "sns.scatterplot(x='price', y='mileage', data=df)"
      ],
      "execution_count": 112,
      "outputs": [
        {
          "output_type": "execute_result",
          "data": {
            "text/plain": [
              "<matplotlib.axes._subplots.AxesSubplot at 0x7f1594e44850>"
            ]
          },
          "metadata": {
            "tags": []
          },
          "execution_count": 112
        },
        {
          "output_type": "display_data",
          "data": {
            "image/png": "[encoded data removed]",
            "text/plain": [
              "<Figure size 864x432 with 1 Axes>"
            ]
          },
          "metadata": {
            "tags": []
          }
        }
      ]
    },
    {
      "cell_type": "markdown",
      "metadata": {
        "id": "C6qkAwTyZUAr"
      },
      "source": [
        "dari scatter plot ini kita bisa lihat corelasi dari milage dan price.\n",
        "\n",
        "\n",
        "\n",
        "*   lebih sering mobil dipakai lebih murah hargangya.\n",
        "*   Mobil yang sering dipakai lebih terpengaruh depresiasi.\n",
        "\n",
        "\n",
        "\n"
      ]
    },
    {
      "cell_type": "markdown",
      "metadata": {
        "id": "K0IMgDVe-v9B"
      },
      "source": [
        "5. Transmission"
      ]
    },
    {
      "cell_type": "code",
      "metadata": {
        "id": "0J9_gBYFfCxM",
        "colab": {
          "base_uri": "https://localhost:8080/",
          "height": 302
        },
        "outputId": "c644df79-0ac2-4780-a8cb-b216bcdc3fbf"
      },
      "source": [
        "sns.countplot(x='transmission', data=df)"
      ],
      "execution_count": 115,
      "outputs": [
        {
          "output_type": "execute_result",
          "data": {
            "text/plain": [
              "<matplotlib.axes._subplots.AxesSubplot at 0x7f1594e07fd0>"
            ]
          },
          "metadata": {
            "tags": []
          },
          "execution_count": 115
        },
        {
          "output_type": "display_data",
          "data": {
            "image/png": "[encoded data removed]",
            "text/plain": [
              "<Figure size 432x288 with 1 Axes>"
            ]
          },
          "metadata": {
            "tags": []
          }
        }
      ]
    },
    {
      "cell_type": "markdown",
      "metadata": {
        "id": "tDwXouYz_DiL"
      },
      "source": [
        "6. Transmission vs price"
      ]
    },
    {
      "cell_type": "code",
      "metadata": {
        "colab": {
          "base_uri": "https://localhost:8080/",
          "height": 411
        },
        "id": "VCYZz6cr-_lI",
        "outputId": "8ca967cd-5b98-4c20-aa7c-3a5af8b115c8"
      },
      "source": [
        "plt.figure(figsize=(12,6))\n",
        "sns.boxplot(y='price', x = 'transmission', data=df)"
      ],
      "execution_count": 120,
      "outputs": [
        {
          "output_type": "execute_result",
          "data": {
            "text/plain": [
              "<matplotlib.axes._subplots.AxesSubplot at 0x7f1594a9f710>"
            ]
          },
          "metadata": {
            "tags": []
          },
          "execution_count": 120
        },
        {
          "output_type": "display_data",
          "data": {
            "image/png": "[encoded data removed]",
            "text/plain": [
              "<Figure size 864x432 with 1 Axes>"
            ]
          },
          "metadata": {
            "tags": []
          }
        }
      ]
    },
    {
      "cell_type": "markdown",
      "metadata": {
        "id": "pyCOYIdVAeci"
      },
      "source": [
        "rata rata harga mobil semi automatic lebih mahal dan rata rata mobil manual lebih murah."
      ]
    },
    {
      "cell_type": "markdown",
      "metadata": {
        "id": "t13VCoj6_Umj"
      },
      "source": [
        "7. Fuel type 2\n",
        "\n",
        "kita akan pake feul type 2 karena data lebih jelas dan tidak ambigu."
      ]
    },
    {
      "cell_type": "code",
      "metadata": {
        "colab": {
          "base_uri": "https://localhost:8080/",
          "height": 302
        },
        "id": "qxHZQ69PEiFT",
        "outputId": "9189a7ac-8308-474d-facc-e44f22bb4ca6"
      },
      "source": [
        "sns.countplot(x='fuel type2', data=df)"
      ],
      "execution_count": 131,
      "outputs": [
        {
          "output_type": "execute_result",
          "data": {
            "text/plain": [
              "<matplotlib.axes._subplots.AxesSubplot at 0x7f15949f2850>"
            ]
          },
          "metadata": {
            "tags": []
          },
          "execution_count": 131
        },
        {
          "output_type": "display_data",
          "data": {
            "image/png": "[encoded data removed]",
            "text/plain": [
              "<Figure size 432x288 with 1 Axes>"
            ]
          },
          "metadata": {
            "tags": []
          }
        }
      ]
    },
    {
      "cell_type": "markdown",
      "metadata": {
        "id": "uoHiTGAiFayc"
      },
      "source": [
        "Jenis mobil yang paling banyak adalah mobil diesel. \n",
        "\n",
        "- diesel lebih effisien dari petrol dengan emisi Co2 lebih rendah.\n",
        "- mobil moderen telah transisi dari memakai petrol dan sekarang diesel."
      ]
    },
    {
      "cell_type": "markdown",
      "metadata": {
        "id": "eSP4H_viC5cc"
      },
      "source": [
        "8. Feul Type 2 vs Price"
      ]
    },
    {
      "cell_type": "code",
      "metadata": {
        "colab": {
          "base_uri": "https://localhost:8080/",
          "height": 411
        },
        "id": "kZKp4MEvFYH7",
        "outputId": "c402cd45-d3b2-4759-dfd5-a4988f93e264"
      },
      "source": [
        "plt.figure(figsize=(12,6))\n",
        "sns.boxplot(y='price', x = 'fuel type2', data=df)"
      ],
      "execution_count": 133,
      "outputs": [
        {
          "output_type": "execute_result",
          "data": {
            "text/plain": [
              "<matplotlib.axes._subplots.AxesSubplot at 0x7f159318a0d0>"
            ]
          },
          "metadata": {
            "tags": []
          },
          "execution_count": 133
        },
        {
          "output_type": "display_data",
          "data": {
            "image/png": "[encoded data removed]",
            "text/plain": [
              "<Figure size 864x432 with 1 Axes>"
            ]
          },
          "metadata": {
            "tags": []
          }
        }
      ]
    },
    {
      "cell_type": "markdown",
      "metadata": {
        "id": "OBlDGvdRGEFA"
      },
      "source": [
        "Mesin petrol lebih kuat dan lebih gampang di tuning dari pada mesin deisel. tetapi mesin diesel lebih tahan lama. fakta ini bisa mengambarkan distribusi harga mesin petrol dimana banyak mesin petrol yang sudah mau rusak lebih murah dan mesin petrol yang di uptune extreme lebih mahal.\n",
        "\n",
        "https://www.motorbiscuit.com/why-do-diesel-engines-last-longer-than-gasoline-engines/\n",
        "\n",
        "https://www.picknbuy24.com/column_34.html"
      ]
    },
    {
      "cell_type": "markdown",
      "metadata": {
        "id": "rWmBrp2fIA6F"
      },
      "source": [
        "9. Distribusi semua fitur"
      ]
    },
    {
      "cell_type": "code",
      "metadata": {
        "colab": {
          "base_uri": "https://localhost:8080/",
          "height": 991
        },
        "id": "4TlSXTvMIKjb",
        "outputId": "37d2c5bb-03b6-4c1d-a66b-266e57672ca7"
      },
      "source": [
        "df.hist(figsize=(20,17))\n",
        "plt.show()"
      ],
      "execution_count": 134,
      "outputs": [
        {
          "output_type": "display_data",
          "data": {
            "image/png": "[encoded data removed]",
            "text/plain": [
              "<Figure size 1440x1224 with 4 Axes>"
            ]
          },
          "metadata": {
            "tags": []
          }
        }
      ]
    },
    {
      "cell_type": "code",
      "metadata": {
        "colab": {
          "base_uri": "https://localhost:8080/",
          "height": 742
        },
        "id": "BpeQ4H7PIaBD",
        "outputId": "94045eb9-4df0-4889-aab4-1f0b2a570085"
      },
      "source": [
        "plt.figure()\n",
        "sns.pairplot(df)\n",
        "plt.show()"
      ],
      "execution_count": 135,
      "outputs": [
        {
          "output_type": "display_data",
          "data": {
            "text/plain": [
              "<Figure size 432x288 with 0 Axes>"
            ]
          },
          "metadata": {
            "tags": []
          }
        },
        {
          "output_type": "display_data",
          "data": {
            "image/png": "[encoded data removed]",
            "text/plain": [
              "<Figure size 720x720 with 20 Axes>"
            ]
          },
          "metadata": {
            "tags": []
          }
        }
      ]
    },
    {
      "cell_type": "code",
      "metadata": {
        "colab": {
          "base_uri": "https://localhost:8080/",
          "height": 598
        },
        "id": "D6pLFZtgIh1L",
        "outputId": "9dc35d3c-e31c-4cff-ebd1-b3414878b373"
      },
      "source": [
        "plt.figure(figsize=(17,10))\n",
        "sns.heatmap(df.corr(),annot=True)\n",
        "plt.show()"
      ],
      "execution_count": 136,
      "outputs": [
        {
          "output_type": "display_data",
          "data": {
            "image/png": "[encoded data removed]",
            "text/plain": [
              "<Figure size 1224x720 with 2 Axes>"
            ]
          },
          "metadata": {
            "tags": []
          }
        }
      ]
    },
    {
      "cell_type": "code",
      "metadata": {
        "colab": {
          "base_uri": "https://localhost:8080/"
        },
        "id": "bdBiAC6ZJu3d",
        "outputId": "4fde7130-06dc-4c98-b5da-b978184a683a"
      },
      "source": [
        "correlation = df.corr()['price'].abs().sort_values(ascending = False)\n",
        "correlation"
      ],
      "execution_count": 137,
      "outputs": [
        {
          "output_type": "execute_result",
          "data": {
            "text/plain": [
              "price          1.000000\n",
              "mileage        0.722719\n",
              "mileage2       0.156582\n",
              "engine size    0.016954\n",
              "Name: price, dtype: float64"
            ]
          },
          "metadata": {
            "tags": []
          },
          "execution_count": 137
        }
      ]
    },
    {
      "cell_type": "markdown",
      "metadata": {
        "id": "0QkOutVaO70e"
      },
      "source": [
        "# 3 & 4. Data prep & model training"
      ]
    },
    {
      "cell_type": "code",
      "metadata": {
        "colab": {
          "base_uri": "https://localhost:8080/",
          "height": 204
        },
        "id": "G8t3-_u8W-RQ",
        "outputId": "80697d4a-1609-4622-b139-37e58346090f"
      },
      "source": [
        "df.head()"
      ],
      "execution_count": 184,
      "outputs": [
        {
          "output_type": "execute_result",
          "data": {
            "text/html": [
              "<div>\n",
              "<style scoped>\n",
              "    .dataframe tbody tr th:only-of-type {\n",
              "        vertical-align: middle;\n",
              "    }\n",
              "\n",
              "    .dataframe tbody tr th {\n",
              "        vertical-align: top;\n",
              "    }\n",
              "\n",
              "    .dataframe thead th {\n",
              "        text-align: right;\n",
              "    }\n",
              "</style>\n",
              "<table border=\"1\" class=\"dataframe\">\n",
              "  <thead>\n",
              "    <tr style=\"text-align: right;\">\n",
              "      <th></th>\n",
              "      <th>model</th>\n",
              "      <th>price</th>\n",
              "      <th>transmission</th>\n",
              "      <th>mileage</th>\n",
              "      <th>fuel type</th>\n",
              "      <th>engine size</th>\n",
              "      <th>mileage2</th>\n",
              "      <th>fuel type2</th>\n",
              "      <th>engine size2</th>\n",
              "      <th>reference</th>\n",
              "      <th>year Released</th>\n",
              "    </tr>\n",
              "  </thead>\n",
              "  <tbody>\n",
              "    <tr>\n",
              "      <th>10</th>\n",
              "      <td>C Class</td>\n",
              "      <td>9995</td>\n",
              "      <td>Automatic</td>\n",
              "      <td>44900.0</td>\n",
              "      <td>29</td>\n",
              "      <td>160.0</td>\n",
              "      <td>46.3</td>\n",
              "      <td>Petrol</td>\n",
              "      <td>1.6</td>\n",
              "      <td>/ad/25128085</td>\n",
              "      <td>2013</td>\n",
              "    </tr>\n",
              "    <tr>\n",
              "      <th>11</th>\n",
              "      <td>C Class</td>\n",
              "      <td>6995</td>\n",
              "      <td>Automatic</td>\n",
              "      <td>88200.0</td>\n",
              "      <td>34</td>\n",
              "      <td>125.0</td>\n",
              "      <td>58.9</td>\n",
              "      <td>Diesel</td>\n",
              "      <td>2.1</td>\n",
              "      <td>/ad/23763610</td>\n",
              "      <td>2012</td>\n",
              "    </tr>\n",
              "    <tr>\n",
              "      <th>12</th>\n",
              "      <td>C Class</td>\n",
              "      <td>7495</td>\n",
              "      <td>Automatic</td>\n",
              "      <td>115000.0</td>\n",
              "      <td>37</td>\n",
              "      <td>145.0</td>\n",
              "      <td>54.3</td>\n",
              "      <td>Diesel</td>\n",
              "      <td>2.1</td>\n",
              "      <td>/ad/24626603</td>\n",
              "      <td>2012</td>\n",
              "    </tr>\n",
              "    <tr>\n",
              "      <th>13</th>\n",
              "      <td>C Class</td>\n",
              "      <td>8995</td>\n",
              "      <td>Automatic</td>\n",
              "      <td>69250.0</td>\n",
              "      <td>29</td>\n",
              "      <td>150.0</td>\n",
              "      <td>53.3</td>\n",
              "      <td>Diesel</td>\n",
              "      <td>2.1</td>\n",
              "      <td>/ad/25462537</td>\n",
              "      <td>2011</td>\n",
              "    </tr>\n",
              "    <tr>\n",
              "      <th>14</th>\n",
              "      <td>C Class</td>\n",
              "      <td>14995</td>\n",
              "      <td>Automatic</td>\n",
              "      <td>49850.0</td>\n",
              "      <td>31</td>\n",
              "      <td>30.0</td>\n",
              "      <td>62.8</td>\n",
              "      <td>Diesel</td>\n",
              "      <td>2.1</td>\n",
              "      <td>/ad/25479169</td>\n",
              "      <td>2015</td>\n",
              "    </tr>\n",
              "  </tbody>\n",
              "</table>\n",
              "</div>"
            ],
            "text/plain": [
              "       model  price transmission  ...  engine size2     reference  year Released\n",
              "10   C Class   9995    Automatic  ...           1.6  /ad/25128085           2013\n",
              "11   C Class   6995    Automatic  ...           2.1  /ad/23763610           2012\n",
              "12   C Class   7495    Automatic  ...           2.1  /ad/24626603           2012\n",
              "13   C Class   8995    Automatic  ...           2.1  /ad/25462537           2011\n",
              "14   C Class  14995    Automatic  ...           2.1  /ad/25479169           2015\n",
              "\n",
              "[5 rows x 11 columns]"
            ]
          },
          "metadata": {
            "tags": []
          },
          "execution_count": 184
        }
      ]
    },
    {
      "cell_type": "code",
      "metadata": {
        "id": "RlT0EA6KXCWR"
      },
      "source": [
        "df_new = df[['price','transmission','mileage','fuel type2','engine size','year Released']]"
      ],
      "execution_count": 185,
      "outputs": []
    },
    {
      "cell_type": "code",
      "metadata": {
        "colab": {
          "base_uri": "https://localhost:8080/",
          "height": 456
        },
        "id": "6dASTeEZbPhl",
        "outputId": "b1572b58-3a21-418f-9a84-8cf9dfa5659a"
      },
      "source": [
        "df_ohe = pd.get_dummies(df_new)\n",
        "df_ohe"
      ],
      "execution_count": 211,
      "outputs": [
        {
          "output_type": "execute_result",
          "data": {
            "text/html": [
              "<div>\n",
              "<style scoped>\n",
              "    .dataframe tbody tr th:only-of-type {\n",
              "        vertical-align: middle;\n",
              "    }\n",
              "\n",
              "    .dataframe tbody tr th {\n",
              "        vertical-align: top;\n",
              "    }\n",
              "\n",
              "    .dataframe thead th {\n",
              "        text-align: right;\n",
              "    }\n",
              "</style>\n",
              "<table border=\"1\" class=\"dataframe\">\n",
              "  <thead>\n",
              "    <tr style=\"text-align: right;\">\n",
              "      <th></th>\n",
              "      <th>price</th>\n",
              "      <th>mileage</th>\n",
              "      <th>engine size</th>\n",
              "      <th>transmission_Automatic</th>\n",
              "      <th>transmission_Manual</th>\n",
              "      <th>transmission_Semi-Auto</th>\n",
              "      <th>fuel type2_Diesel</th>\n",
              "      <th>fuel type2_Hybrid</th>\n",
              "      <th>fuel type2_Other</th>\n",
              "      <th>fuel type2_Petrol</th>\n",
              "      <th>year Released_2002</th>\n",
              "      <th>year Released_2004</th>\n",
              "      <th>year Released_2005</th>\n",
              "      <th>year Released_2006</th>\n",
              "      <th>year Released_2007</th>\n",
              "      <th>year Released_2008</th>\n",
              "      <th>year Released_2009</th>\n",
              "      <th>year Released_201</th>\n",
              "      <th>year Released_2011</th>\n",
              "      <th>year Released_2012</th>\n",
              "      <th>year Released_2013</th>\n",
              "      <th>year Released_2014</th>\n",
              "      <th>year Released_2015</th>\n",
              "      <th>year Released_2016</th>\n",
              "      <th>year Released_2017</th>\n",
              "      <th>year Released_2018</th>\n",
              "    </tr>\n",
              "  </thead>\n",
              "  <tbody>\n",
              "    <tr>\n",
              "      <th>10</th>\n",
              "      <td>9995</td>\n",
              "      <td>44900.0</td>\n",
              "      <td>160.0</td>\n",
              "      <td>1</td>\n",
              "      <td>0</td>\n",
              "      <td>0</td>\n",
              "      <td>0</td>\n",
              "      <td>0</td>\n",
              "      <td>0</td>\n",
              "      <td>1</td>\n",
              "      <td>0</td>\n",
              "      <td>0</td>\n",
              "      <td>0</td>\n",
              "      <td>0</td>\n",
              "      <td>0</td>\n",
              "      <td>0</td>\n",
              "      <td>0</td>\n",
              "      <td>0</td>\n",
              "      <td>0</td>\n",
              "      <td>0</td>\n",
              "      <td>1</td>\n",
              "      <td>0</td>\n",
              "      <td>0</td>\n",
              "      <td>0</td>\n",
              "      <td>0</td>\n",
              "      <td>0</td>\n",
              "    </tr>\n",
              "    <tr>\n",
              "      <th>11</th>\n",
              "      <td>6995</td>\n",
              "      <td>88200.0</td>\n",
              "      <td>125.0</td>\n",
              "      <td>1</td>\n",
              "      <td>0</td>\n",
              "      <td>0</td>\n",
              "      <td>1</td>\n",
              "      <td>0</td>\n",
              "      <td>0</td>\n",
              "      <td>0</td>\n",
              "      <td>0</td>\n",
              "      <td>0</td>\n",
              "      <td>0</td>\n",
              "      <td>0</td>\n",
              "      <td>0</td>\n",
              "      <td>0</td>\n",
              "      <td>0</td>\n",
              "      <td>0</td>\n",
              "      <td>0</td>\n",
              "      <td>1</td>\n",
              "      <td>0</td>\n",
              "      <td>0</td>\n",
              "      <td>0</td>\n",
              "      <td>0</td>\n",
              "      <td>0</td>\n",
              "      <td>0</td>\n",
              "    </tr>\n",
              "    <tr>\n",
              "      <th>12</th>\n",
              "      <td>7495</td>\n",
              "      <td>115000.0</td>\n",
              "      <td>145.0</td>\n",
              "      <td>1</td>\n",
              "      <td>0</td>\n",
              "      <td>0</td>\n",
              "      <td>1</td>\n",
              "      <td>0</td>\n",
              "      <td>0</td>\n",
              "      <td>0</td>\n",
              "      <td>0</td>\n",
              "      <td>0</td>\n",
              "      <td>0</td>\n",
              "      <td>0</td>\n",
              "      <td>0</td>\n",
              "      <td>0</td>\n",
              "      <td>0</td>\n",
              "      <td>0</td>\n",
              "      <td>0</td>\n",
              "      <td>1</td>\n",
              "      <td>0</td>\n",
              "      <td>0</td>\n",
              "      <td>0</td>\n",
              "      <td>0</td>\n",
              "      <td>0</td>\n",
              "      <td>0</td>\n",
              "    </tr>\n",
              "    <tr>\n",
              "      <th>13</th>\n",
              "      <td>8995</td>\n",
              "      <td>69250.0</td>\n",
              "      <td>150.0</td>\n",
              "      <td>1</td>\n",
              "      <td>0</td>\n",
              "      <td>0</td>\n",
              "      <td>1</td>\n",
              "      <td>0</td>\n",
              "      <td>0</td>\n",
              "      <td>0</td>\n",
              "      <td>0</td>\n",
              "      <td>0</td>\n",
              "      <td>0</td>\n",
              "      <td>0</td>\n",
              "      <td>0</td>\n",
              "      <td>0</td>\n",
              "      <td>0</td>\n",
              "      <td>0</td>\n",
              "      <td>1</td>\n",
              "      <td>0</td>\n",
              "      <td>0</td>\n",
              "      <td>0</td>\n",
              "      <td>0</td>\n",
              "      <td>0</td>\n",
              "      <td>0</td>\n",
              "      <td>0</td>\n",
              "    </tr>\n",
              "    <tr>\n",
              "      <th>14</th>\n",
              "      <td>14995</td>\n",
              "      <td>49850.0</td>\n",
              "      <td>30.0</td>\n",
              "      <td>1</td>\n",
              "      <td>0</td>\n",
              "      <td>0</td>\n",
              "      <td>1</td>\n",
              "      <td>0</td>\n",
              "      <td>0</td>\n",
              "      <td>0</td>\n",
              "      <td>0</td>\n",
              "      <td>0</td>\n",
              "      <td>0</td>\n",
              "      <td>0</td>\n",
              "      <td>0</td>\n",
              "      <td>0</td>\n",
              "      <td>0</td>\n",
              "      <td>0</td>\n",
              "      <td>0</td>\n",
              "      <td>0</td>\n",
              "      <td>0</td>\n",
              "      <td>0</td>\n",
              "      <td>1</td>\n",
              "      <td>0</td>\n",
              "      <td>0</td>\n",
              "      <td>0</td>\n",
              "    </tr>\n",
              "    <tr>\n",
              "      <th>...</th>\n",
              "      <td>...</td>\n",
              "      <td>...</td>\n",
              "      <td>...</td>\n",
              "      <td>...</td>\n",
              "      <td>...</td>\n",
              "      <td>...</td>\n",
              "      <td>...</td>\n",
              "      <td>...</td>\n",
              "      <td>...</td>\n",
              "      <td>...</td>\n",
              "      <td>...</td>\n",
              "      <td>...</td>\n",
              "      <td>...</td>\n",
              "      <td>...</td>\n",
              "      <td>...</td>\n",
              "      <td>...</td>\n",
              "      <td>...</td>\n",
              "      <td>...</td>\n",
              "      <td>...</td>\n",
              "      <td>...</td>\n",
              "      <td>...</td>\n",
              "      <td>...</td>\n",
              "      <td>...</td>\n",
              "      <td>...</td>\n",
              "      <td>...</td>\n",
              "      <td>...</td>\n",
              "    </tr>\n",
              "    <tr>\n",
              "      <th>4001</th>\n",
              "      <td>14700</td>\n",
              "      <td>31357.0</td>\n",
              "      <td>150.0</td>\n",
              "      <td>0</td>\n",
              "      <td>1</td>\n",
              "      <td>0</td>\n",
              "      <td>1</td>\n",
              "      <td>0</td>\n",
              "      <td>0</td>\n",
              "      <td>0</td>\n",
              "      <td>0</td>\n",
              "      <td>0</td>\n",
              "      <td>0</td>\n",
              "      <td>0</td>\n",
              "      <td>0</td>\n",
              "      <td>0</td>\n",
              "      <td>0</td>\n",
              "      <td>0</td>\n",
              "      <td>0</td>\n",
              "      <td>0</td>\n",
              "      <td>0</td>\n",
              "      <td>0</td>\n",
              "      <td>0</td>\n",
              "      <td>0</td>\n",
              "      <td>1</td>\n",
              "      <td>0</td>\n",
              "    </tr>\n",
              "    <tr>\n",
              "      <th>4002</th>\n",
              "      <td>18500</td>\n",
              "      <td>28248.0</td>\n",
              "      <td>150.0</td>\n",
              "      <td>1</td>\n",
              "      <td>0</td>\n",
              "      <td>0</td>\n",
              "      <td>1</td>\n",
              "      <td>0</td>\n",
              "      <td>0</td>\n",
              "      <td>0</td>\n",
              "      <td>0</td>\n",
              "      <td>0</td>\n",
              "      <td>0</td>\n",
              "      <td>0</td>\n",
              "      <td>0</td>\n",
              "      <td>0</td>\n",
              "      <td>0</td>\n",
              "      <td>0</td>\n",
              "      <td>0</td>\n",
              "      <td>0</td>\n",
              "      <td>0</td>\n",
              "      <td>0</td>\n",
              "      <td>0</td>\n",
              "      <td>0</td>\n",
              "      <td>0</td>\n",
              "      <td>1</td>\n",
              "    </tr>\n",
              "    <tr>\n",
              "      <th>4003</th>\n",
              "      <td>11900</td>\n",
              "      <td>48055.0</td>\n",
              "      <td>20.0</td>\n",
              "      <td>0</td>\n",
              "      <td>1</td>\n",
              "      <td>0</td>\n",
              "      <td>1</td>\n",
              "      <td>0</td>\n",
              "      <td>0</td>\n",
              "      <td>0</td>\n",
              "      <td>0</td>\n",
              "      <td>0</td>\n",
              "      <td>0</td>\n",
              "      <td>0</td>\n",
              "      <td>0</td>\n",
              "      <td>0</td>\n",
              "      <td>0</td>\n",
              "      <td>0</td>\n",
              "      <td>0</td>\n",
              "      <td>0</td>\n",
              "      <td>0</td>\n",
              "      <td>1</td>\n",
              "      <td>0</td>\n",
              "      <td>0</td>\n",
              "      <td>0</td>\n",
              "      <td>0</td>\n",
              "    </tr>\n",
              "    <tr>\n",
              "      <th>4004</th>\n",
              "      <td>11300</td>\n",
              "      <td>49865.0</td>\n",
              "      <td>145.0</td>\n",
              "      <td>1</td>\n",
              "      <td>0</td>\n",
              "      <td>0</td>\n",
              "      <td>1</td>\n",
              "      <td>0</td>\n",
              "      <td>0</td>\n",
              "      <td>0</td>\n",
              "      <td>0</td>\n",
              "      <td>0</td>\n",
              "      <td>0</td>\n",
              "      <td>0</td>\n",
              "      <td>0</td>\n",
              "      <td>0</td>\n",
              "      <td>0</td>\n",
              "      <td>0</td>\n",
              "      <td>0</td>\n",
              "      <td>0</td>\n",
              "      <td>0</td>\n",
              "      <td>1</td>\n",
              "      <td>0</td>\n",
              "      <td>0</td>\n",
              "      <td>0</td>\n",
              "      <td>0</td>\n",
              "    </tr>\n",
              "    <tr>\n",
              "      <th>4005</th>\n",
              "      <td>14800</td>\n",
              "      <td>55445.0</td>\n",
              "      <td>30.0</td>\n",
              "      <td>1</td>\n",
              "      <td>0</td>\n",
              "      <td>0</td>\n",
              "      <td>1</td>\n",
              "      <td>0</td>\n",
              "      <td>0</td>\n",
              "      <td>0</td>\n",
              "      <td>0</td>\n",
              "      <td>0</td>\n",
              "      <td>0</td>\n",
              "      <td>0</td>\n",
              "      <td>0</td>\n",
              "      <td>0</td>\n",
              "      <td>0</td>\n",
              "      <td>0</td>\n",
              "      <td>0</td>\n",
              "      <td>0</td>\n",
              "      <td>0</td>\n",
              "      <td>1</td>\n",
              "      <td>0</td>\n",
              "      <td>0</td>\n",
              "      <td>0</td>\n",
              "      <td>0</td>\n",
              "    </tr>\n",
              "  </tbody>\n",
              "</table>\n",
              "<p>1208 rows × 26 columns</p>\n",
              "</div>"
            ],
            "text/plain": [
              "      price   mileage  ...  year Released_2017  year Released_2018\n",
              "10     9995   44900.0  ...                   0                   0\n",
              "11     6995   88200.0  ...                   0                   0\n",
              "12     7495  115000.0  ...                   0                   0\n",
              "13     8995   69250.0  ...                   0                   0\n",
              "14    14995   49850.0  ...                   0                   0\n",
              "...     ...       ...  ...                 ...                 ...\n",
              "4001  14700   31357.0  ...                   1                   0\n",
              "4002  18500   28248.0  ...                   0                   1\n",
              "4003  11900   48055.0  ...                   0                   0\n",
              "4004  11300   49865.0  ...                   0                   0\n",
              "4005  14800   55445.0  ...                   0                   0\n",
              "\n",
              "[1208 rows x 26 columns]"
            ]
          },
          "metadata": {
            "tags": []
          },
          "execution_count": 211
        }
      ]
    },
    {
      "cell_type": "code",
      "metadata": {
        "id": "3BzkXTTMQyhr"
      },
      "source": [
        "X = df_ohe.drop(['price'],axis = 1)\n",
        "y = df_ohe['price']"
      ],
      "execution_count": 214,
      "outputs": []
    },
    {
      "cell_type": "code",
      "metadata": {
        "id": "YF0CpRUzRKnd"
      },
      "source": [
        "X_train, X_test, y_train, y_test = train_test_split(X, y, test_size = 0.3, random_state=10)"
      ],
      "execution_count": 215,
      "outputs": []
    },
    {
      "cell_type": "code",
      "metadata": {
        "colab": {
          "base_uri": "https://localhost:8080/"
        },
        "id": "r1_1-mOdb9xh",
        "outputId": "bbe46bf3-ee6c-4050-cb63-e1dbfc7a70a7"
      },
      "source": [
        "from sklearn.model_selection import cross_val_score\n",
        "\n",
        "print('R-squared (training): ', lin_reg.score(X_train, y_train))\n",
        "print('R-squared (CV): ', cross_val_score(lin_reg, X_train, y_train).mean())"
      ],
      "execution_count": 216,
      "outputs": [
        {
          "output_type": "stream",
          "text": [
            "R-squared (training):  -7.563162084843239\n",
            "R-squared (CV):  0.7174417688883732\n"
          ],
          "name": "stdout"
        }
      ]
    },
    {
      "cell_type": "code",
      "metadata": {
        "colab": {
          "base_uri": "https://localhost:8080/"
        },
        "id": "yVw1tZ-BcFtd",
        "outputId": "6da4e8de-9573-4c8c-ea06-e35bd15245bb"
      },
      "source": [
        "print('R-squared (training): ', knn.score(X_train, y_train))\n",
        "print('R-squared (CV): ', cross_val_score(knn, X_train, y_train).mean())"
      ],
      "execution_count": 217,
      "outputs": [
        {
          "output_type": "stream",
          "text": [
            "R-squared (training):  0.6375627348861185\n",
            "R-squared (CV):  0.44037697566233047\n"
          ],
          "name": "stdout"
        }
      ]
    },
    {
      "cell_type": "code",
      "metadata": {
        "colab": {
          "base_uri": "https://localhost:8080/"
        },
        "id": "2ffdfKcNcHaT",
        "outputId": "c03cc183-9591-480f-ebf3-04c1a1fd3297"
      },
      "source": [
        "print('R-squared (training): ', rf.score(X_train, y_train))\n",
        "print('R-squared (CV): ', cross_val_score(rf, X_train, y_train).mean())"
      ],
      "execution_count": 218,
      "outputs": [
        {
          "output_type": "stream",
          "text": [
            "R-squared (training):  0.6635186173264862\n",
            "R-squared (CV):  0.7164992322406206\n"
          ],
          "name": "stdout"
        }
      ]
    },
    {
      "cell_type": "markdown",
      "metadata": {
        "id": "_P7WWKzqV4kf"
      },
      "source": [
        "# 5. Evaluation, model selection & model tuning"
      ]
    },
    {
      "cell_type": "markdown",
      "metadata": {
        "id": "Czl2iGcKWIxe"
      },
      "source": [
        "Random forest mempunyai performance yang tertinggi."
      ]
    },
    {
      "cell_type": "code",
      "metadata": {
        "colab": {
          "base_uri": "https://localhost:8080/"
        },
        "id": "hmawOl0tVWVu",
        "outputId": "651fb2b8-edf0-4160-ca70-6baee24f663f"
      },
      "source": [
        "from sklearn.model_selection import GridSearchCV\n",
        "from tqdm import tqdm\n",
        "\n",
        "param_grid = {\n",
        "    'n_estimators': [50,100],\n",
        "    'min_samples_split': [2,10],\n",
        "    'min_samples_leaf': [1,5],\n",
        "    'max_features': ['auto', 'log2']\n",
        "}\n",
        "\n",
        "grid_search = GridSearchCV(\n",
        "    RandomForestRegressor(n_jobs=-1),\n",
        "    param_grid,\n",
        "    cv=3\n",
        ")\n",
        "\n",
        "grid_search.fit(X_train, y_train)"
      ],
      "execution_count": 219,
      "outputs": [
        {
          "output_type": "execute_result",
          "data": {
            "text/plain": [
              "GridSearchCV(cv=3, error_score=nan,\n",
              "             estimator=RandomForestRegressor(bootstrap=True, ccp_alpha=0.0,\n",
              "                                             criterion='mse', max_depth=None,\n",
              "                                             max_features='auto',\n",
              "                                             max_leaf_nodes=None,\n",
              "                                             max_samples=None,\n",
              "                                             min_impurity_decrease=0.0,\n",
              "                                             min_impurity_split=None,\n",
              "                                             min_samples_leaf=1,\n",
              "                                             min_samples_split=2,\n",
              "                                             min_weight_fraction_leaf=0.0,\n",
              "                                             n_estimators=100, n_jobs=-1,\n",
              "                                             oob_score=False, random_state=None,\n",
              "                                             verbose=0, warm_start=False),\n",
              "             iid='deprecated', n_jobs=None,\n",
              "             param_grid={'max_features': ['auto', 'log2'],\n",
              "                         'min_samples_leaf': [1, 5],\n",
              "                         'min_samples_split': [2, 10],\n",
              "                         'n_estimators': [50, 100]},\n",
              "             pre_dispatch='2*n_jobs', refit=True, return_train_score=False,\n",
              "             scoring=None, verbose=0)"
            ]
          },
          "metadata": {
            "tags": []
          },
          "execution_count": 219
        }
      ]
    },
    {
      "cell_type": "code",
      "metadata": {
        "id": "CWx3-PxXVne8"
      },
      "source": [
        "max_rf = grid_search.best_estimator_.fit(X_train, y_train)"
      ],
      "execution_count": 220,
      "outputs": []
    },
    {
      "cell_type": "code",
      "metadata": {
        "colab": {
          "base_uri": "https://localhost:8080/"
        },
        "id": "AvQQQRgJVfJ8",
        "outputId": "7aba6f73-6162-4fe5-a5e8-37a356b7f6e3"
      },
      "source": [
        "print('R-squared (training): ', max_rf.score(X_train, y_train))\n",
        "print('R-squared (CV): ', cross_val_score(max_rf, X_train, y_train).mean())\n",
        "print('R-squared (test): ', max_rf.score(X_test, y_test))"
      ],
      "execution_count": 221,
      "outputs": [
        {
          "output_type": "stream",
          "text": [
            "R-squared (training):  0.8628307665771927\n",
            "R-squared (CV):  0.7420448557113598\n",
            "R-squared (test):  0.7531634931556486\n"
          ],
          "name": "stdout"
        }
      ]
    },
    {
      "cell_type": "markdown",
      "metadata": {
        "id": "8Zqfg8Rvcvhw"
      },
      "source": [
        "# 6. Result, Conclusion, and Recommendation"
      ]
    },
    {
      "cell_type": "markdown",
      "metadata": {
        "id": "gnZaA_xec_C9"
      },
      "source": [
        "Berdasarkan model yang telah di bikin, ternyata random forest mempunyai skor ynag tertinggi. akurasi masih belum maximal tetapi model masih bisa menolong membuat valuasi kepada mobil cclass."
      ]
    }
  ]
}